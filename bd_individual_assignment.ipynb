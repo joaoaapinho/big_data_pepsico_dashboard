{
 "cells": [
  {
   "attachments": {},
   "cell_type": "markdown",
   "metadata": {},
   "source": [
    "Big Data\n",
    "\n",
    "# **Individual Assignment:**\n",
    "### **PepsiCo Dataset Exploration Exercise**\n",
    "Professor: Daniel Tapiador\n",
    "\n",
    "Assignment done by: \n",
    "João André Pinho"
   ]
  },
  {
   "attachments": {},
   "cell_type": "markdown",
   "metadata": {},
   "source": [
    "--------------------------------------------------------------------------------------------------------------------------------------------------------------------------"
   ]
  },
  {
   "attachments": {},
   "cell_type": "markdown",
   "metadata": {},
   "source": [
    "## **Assignment Description**\n",
    "\n",
    "**TASK 0:** What is PepsiCo’s total volume and revenue in 2011 and 2012 for the category? What are the top 3 regions?\n",
    "\n",
    "**TASK 1:** What is PepsiCo's market share (for revenue)?\n",
    "\n",
    "**TASK 2:** Focusing on New York, identify the top customers (retailers).\n",
    "\n",
    "**TASK 3:** Focusing on New York, list the top products (including PepsiCo & competitors).\n",
    "\n",
    "**TASK 4:** Focusing on New York, for the 1-3 top-seller items, how strong is the promotional activity? \n",
    "\n",
    "**TASK 5:** Focusing on New York, calculate the Volume Sold on Deal (VSoD) for PepsiCo products.\n",
    "\n",
    "**TASK 6:** Create a time series chart:\n",
    "\n",
    "1. Configurable for a particular item;\n",
    "\n",
    "2. For the total New York area;\n",
    "\n",
    "3. At weekly level;\n",
    "\n",
    "4. Show revenue, units sold, average price, average time with price reduction (PR), average marketing support (D).\n"
   ]
  },
  {
   "attachments": {},
   "cell_type": "markdown",
   "metadata": {},
   "source": [
    "--------------------------------------------------------------------------------------------------------------------------------------------------------------------------"
   ]
  },
  {
   "attachments": {},
   "cell_type": "markdown",
   "metadata": {},
   "source": [
    "## **Resolution**"
   ]
  },
  {
   "attachments": {},
   "cell_type": "markdown",
   "metadata": {},
   "source": [
    "### **• Libraries and Module Imports:**\n",
    "\n",
    "Importing the necessary libraries and modules to manipulate and interact with the datasets."
   ]
  },
  {
   "cell_type": "code",
   "execution_count": 53,
   "metadata": {},
   "outputs": [],
   "source": [
    "# Imports: \n",
    "import pandas as pd\n",
    "from pyspark import SparkContext\n",
    "from pyspark.sql import SparkSession\n",
    "from pyspark.sql.functions import col, substring\n",
    "from pyspark.sql.types import StructType, StructField, StringType\n",
    "from pyspark.sql.functions import format_string\n",
    "from pyspark.sql.functions import concat, lit\n",
    "from pyspark.sql.functions import sum, year\n",
    "from pyspark.sql.functions import countDistinct, count, max\n",
    "from pyspark.sql.functions import avg\n",
    "from pyspark.sql.functions import when\n",
    "from pyspark.sql import functions as F\n",
    "from pyspark.sql.window import Window"
   ]
  },
  {
   "attachments": {},
   "cell_type": "markdown",
   "metadata": {},
   "source": [
    "### **• Load the Datasets as Pandas Dataframes:**\n",
    "\n",
    "Loading the Delivery Stores, Product Attributes and Sell Out datasets as Pandas Dataframes."
   ]
  },
  {
   "cell_type": "code",
   "execution_count": 117,
   "metadata": {},
   "outputs": [],
   "source": [
    "# Read the Delivery Stores file.\n",
    "#delivery_stores_df = pd.read_fwf(\"Saltsnck_US_1of2\\Delivery_Stores\")"
   ]
  },
  {
   "cell_type": "code",
   "execution_count": 118,
   "metadata": {},
   "outputs": [],
   "source": [
    "# Read the Product Attributes file.\n",
    "#product_attributes_df = pd.read_fwf(\"Saltsnck_US_1of2\\saltsnck_prod_attr\")"
   ]
  },
  {
   "cell_type": "code",
   "execution_count": 119,
   "metadata": {},
   "outputs": [],
   "source": [
    "# Read the Sell Out 1 file.\n",
    "#sellout1_df = pd.read_fwf(\"Saltsnck_US_1of2\\saltsnck_groc_1687_1739\")"
   ]
  },
  {
   "cell_type": "code",
   "execution_count": 120,
   "metadata": {},
   "outputs": [],
   "source": [
    "# Read the Sell Out 2 file.\n",
    "#sellout2_df = pd.read_fwf(\"Saltsnck_US_2of2\\saltsnck_groc_1635_1686\")"
   ]
  },
  {
   "cell_type": "code",
   "execution_count": 121,
   "metadata": {},
   "outputs": [],
   "source": [
    "# Read the Week Translation file.\n",
    "#week_translation_df = pd.read_excel(\"Saltsnck_US_1of2\\IRI week translation_2008_2017.xls\")"
   ]
  },
  {
   "cell_type": "code",
   "execution_count": 122,
   "metadata": {},
   "outputs": [],
   "source": [
    "# Read the Product Salt Snacks file.\n",
    "#product_saltsnacks_df = pd.read_excel(\"Saltsnck_US_1of2\\prod_saltsnck.xls\")"
   ]
  },
  {
   "attachments": {},
   "cell_type": "markdown",
   "metadata": {},
   "source": [
    "### **• Transform the Pandas Datasets into CSVs:**\n",
    "\n",
    "Transforming the pandas datasets into CSVs in order to make them readable and manipulable by PySpark."
   ]
  },
  {
   "cell_type": "code",
   "execution_count": 123,
   "metadata": {},
   "outputs": [],
   "source": [
    "# Save the modified delivery stores data as CSV.\n",
    "#delivery_stores_df.to_csv(\"CSVs/delivery_stores.csv\", index = False)"
   ]
  },
  {
   "cell_type": "code",
   "execution_count": 124,
   "metadata": {},
   "outputs": [],
   "source": [
    "# Save the modified product attributes data as CSV.\n",
    "#product_attributes_df.to_csv(\"CSVs/product_attributes.csv\", index = False)"
   ]
  },
  {
   "cell_type": "code",
   "execution_count": 125,
   "metadata": {},
   "outputs": [],
   "source": [
    "# Save the modified sell out 1 data as CSV.\n",
    "#sellout1_df.to_csv(\"CSVs/sellout1.csv\", index = False)"
   ]
  },
  {
   "cell_type": "code",
   "execution_count": 126,
   "metadata": {},
   "outputs": [],
   "source": [
    "# Save the modified sell out 2 data as CSV.\n",
    "#sellout2_df.to_csv(\"CSVs/sellout2.csv\", index = False)"
   ]
  },
  {
   "cell_type": "code",
   "execution_count": 127,
   "metadata": {},
   "outputs": [],
   "source": [
    "# Save the modified sell out 2 data as CSV.\n",
    "#week_translation_df.to_csv(\"CSVs/week_translation.csv\", index = False)"
   ]
  },
  {
   "cell_type": "code",
   "execution_count": 128,
   "metadata": {},
   "outputs": [],
   "source": [
    "#Save the modified product salt snacks data as CSV.\n",
    "#product_saltsnacks_df.to_csv(\"CSVs/product_saltsnacks.csv\", index = False)"
   ]
  },
  {
   "attachments": {},
   "cell_type": "markdown",
   "metadata": {},
   "source": [
    "--------------------------------------------------------------------------------------------------------------------------------------------------------------------------"
   ]
  },
  {
   "attachments": {},
   "cell_type": "markdown",
   "metadata": {},
   "source": [
    "## **Data Preparation**"
   ]
  },
  {
   "attachments": {},
   "cell_type": "markdown",
   "metadata": {},
   "source": [
    "### **• Create a SparkSession:**\n",
    "\n",
    "Create a SparkSession to provide a single point of entry to interact with the different Spark DataFrames."
   ]
  },
  {
   "cell_type": "code",
   "execution_count": 54,
   "metadata": {},
   "outputs": [],
   "source": [
    "# Create a Spark Session.\n",
    "spark = SparkSession.builder.getOrCreate()"
   ]
  },
  {
   "attachments": {},
   "cell_type": "markdown",
   "metadata": {},
   "source": [
    "### **• Create PySpark Dataframes:**\n",
    "\n",
    "Transform the CSVs into PySpark Dataframes."
   ]
  },
  {
   "cell_type": "code",
   "execution_count": 55,
   "metadata": {},
   "outputs": [],
   "source": [
    "# Create a delivery stores PySpark DataFrame.\n",
    "delivery_stores_df = spark.read.csv(\"CSVs/delivery_stores.csv\", header=True, inferSchema=True)"
   ]
  },
  {
   "cell_type": "code",
   "execution_count": 56,
   "metadata": {},
   "outputs": [],
   "source": [
    "# Create a product attributes PySpark DataFrame.\n",
    "product_attributes_df = spark.read.csv(\"CSVs/product_attributes.csv\", header=True, inferSchema=True)"
   ]
  },
  {
   "cell_type": "code",
   "execution_count": 57,
   "metadata": {},
   "outputs": [],
   "source": [
    "# Create a sell out 1 PySpark DataFrame.\n",
    "sellout1_df = spark.read.csv(\"CSVs/sellout1.csv\", header=True, inferSchema=True)"
   ]
  },
  {
   "cell_type": "code",
   "execution_count": 58,
   "metadata": {},
   "outputs": [],
   "source": [
    "# Create a sell out 2 PySpark DataFrame.\n",
    "sellout2_df = spark.read.csv(\"CSVs/sellout2.csv\", header=True, inferSchema=True)"
   ]
  },
  {
   "cell_type": "code",
   "execution_count": 59,
   "metadata": {},
   "outputs": [],
   "source": [
    "# Create a week translation PySpark DataFrame.\n",
    "week_translation_df = spark.read.csv(\"CSVs/week_translation.csv\", header=True, inferSchema=True)"
   ]
  },
  {
   "cell_type": "code",
   "execution_count": 60,
   "metadata": {},
   "outputs": [],
   "source": [
    "# Create a product salt snacks PySpark DataFrame.\n",
    "product_saltsnacks_df = spark.read.csv(\"CSVs/product_saltsnacks.csv\", header=True, inferSchema=True)"
   ]
  },
  {
   "attachments": {},
   "cell_type": "markdown",
   "metadata": {},
   "source": [
    "### **• Check the PySpark Dataframes Schema:**\n",
    "\n",
    "Checking the different pyspark dataframes schema to assess which transformations may need to be done."
   ]
  },
  {
   "cell_type": "code",
   "execution_count": 61,
   "metadata": {},
   "outputs": [
    {
     "name": "stdout",
     "output_type": "stream",
     "text": [
      "+-------+---+--------+--------------+----+----+--------+\n",
      "|IRI_KEY| OU| EST_ACV|   Market_Name|Open|Clsd|MskdName|\n",
      "+-------+---+--------+--------------+----+----+--------+\n",
      "| 200032| GR|25.28099|      NEW YORK|1539|1743|  Chain5|\n",
      "| 200156| GR|16.52399|       DETROIT|1689|1799| Chain44|\n",
      "| 200272| GR|  11.092|   LOS ANGELES| 873|9998|Chain107|\n",
      "| 200341| GR|25.69398|     SAN DIEGO|1197|9998|Chain107|\n",
      "| 200379| GR|29.52299|SOUTH CAROLINA|1348|1719| Chain55|\n",
      "+-------+---+--------+--------------+----+----+--------+\n",
      "only showing top 5 rows\n",
      "\n"
     ]
    }
   ],
   "source": [
    "# Check the delivery stores PySpark DataFrame structure.\n",
    "delivery_stores_df.show(5)"
   ]
  },
  {
   "cell_type": "code",
   "execution_count": 62,
   "metadata": {},
   "outputs": [
    {
     "name": "stdout",
     "output_type": "stream",
     "text": [
      "+---+---+----+-----+------+------------+-----------+-------------+-----+--------+-------------------+-------+--------------------+--------+---------------+----------+----+-------+--------------------+-------+-----+-----------------+-----------+------+-------+------------+------------+---------+--------+----------+----+-----------+--------+-----------------+-------+-------+--------------+----------------+-------+------+-------------+--------+---------+---------------+-----------+---------+-------+---------+-----+-------+----------------+-------+----+---------+------------+-------+-------+----------+-------------+------+---------+---------+----------+--------+----+--------+------------------+------------+---------+----+-----------+------+---------+------+---------+------+-----------+--------+------+-------+------+--------+------+--------+----+---------+----------+-------+-----+---------+-------+---------+----+---------+---------+---------+---------+----------+--------+-------+---------+----+---------+-------+---------+------+---------+---------+---------+----+---------+----+---------+-----+----------+-----+----------+--------+----------+----+----------+-----+----------+-------+----------+-----------+----------+-------+----------------+----------+------------+\n",
      "| SY| GE|VEND| ITEM|VOL_EQ|FLAVOR/SCENT|    PACKAGE| PRODUCT TYPE|STORE|LOCATION|SALT/SODIUM CONTENT|   SIZE|         FAT CONTENT|   SHAPE|SA MANUFACTURER|BIOLOGICAL|INFO|   FORM|               STYLE|CALORIE|LEVEL|CHOLESTEROL LEVEL|KP CONSUMER|SECTOR|PROCESS|GRAMS OF FAT|SERVING SIZE|ADDITIVES|   COLOR|SPECIALITY|NAME|SA CONSUMER|SECTOR.1|PRESERVATIVE INFO|TYPE OF|COATING|COOKING METHOD|MICROWAVEABILITY|ORGANIC|INFO.1|SUGAR CONTENT|REALNESS|THICKNESS|TYPE OF CRACKER|TYPE OF CUT|TYPE OF.1|FILLING|TYPE OF.2|FLOUR|  USAGE|BIODEGRADABILITY|CLOSURE|TYPE|COATING.1|COLOR/DESIGN|DIET VS|REGULAR|FIBER INFO|FORTIFICATION|INFO.2|GEOGRAPH.|REFERENCE|GRADE INFO|IMPORTED|  VS|DOMESTIC|LABEL INSTRUCTIONS|MILK CONTENT|NUMBER OF| PLY|NUMBER OF.1|SLICES|PACKAGE.1|TYPE.1|PACKED-IN|INFO.3|PITTED INFO|ROASTING|INFO.4|SA USER|INFO.5|SEASONAL|INFO.6|SHAPE OF|CHIP|SHARPNESS|SHELL INFO|SIZE OF|CAKES|SIZE OF.1|CRACKER|SIZE OF.2| NUT|SIZE OF.3|PACKAGE.2|SKIN INFO|SNACK MIX|INGREDIENT|STRENGTH|TEXTURE|TYPE OF.3| BAG|TYPE OF.4|CARROTS|TYPE OF.5|CHEESE|TYPE OF.6|CHOCOLATE|TYPE OF.7|CORN|TYPE OF.8| FIG|TYPE OF.9|FRUIT|TYPE OF.10|GRAIN|TYPE OF.11|MATERIAL|TYPE OF.12|MILK|TYPE OF.13|NUT.1|TYPE OF.14|POPCORN|TYPE OF.15|PREPARATION|TYPE OF.16|TOPPING|TYPE OF TORTILLA|TYPE OF.17|TORTILLA/KIT|\n",
      "+---+---+----+-----+------+------------+-----------+-------------+-----+--------+-------------------+-------+--------------------+--------+---------------+----------+----+-------+--------------------+-------+-----+-----------------+-----------+------+-------+------------+------------+---------+--------+----------+----+-----------+--------+-----------------+-------+-------+--------------+----------------+-------+------+-------------+--------+---------+---------------+-----------+---------+-------+---------+-----+-------+----------------+-------+----+---------+------------+-------+-------+----------+-------------+------+---------+---------+----------+--------+----+--------+------------------+------------+---------+----+-----------+------+---------+------+---------+------+-----------+--------+------+-------+------+--------+------+--------+----+---------+----------+-------+-----+---------+-------+---------+----+---------+---------+---------+---------+----------+--------+-------+---------+----+---------+-------+---------+------+---------+---------+---------+----+---------+----+---------+-----+----------+-----+----------+--------+----------+----+----------+-----+----------+-------+----------+-----------+----------+-------+----------------+----------+------------+\n",
      "|  0|  1|   2|72107|  0.75| KETTLE CORN|PLASTIC BAG|  RTE POPCORN|SHELF|  STABLE|            MISSING|MISSING|             MISSING| MISSING|        MISSING|   MISSING|null|MISSING|             MISSING|MISSING| null|          MISSING|    MISSING|  null|MISSING|     MISSING|     MISSING|  MISSING|   WHITE|   MISSING|null|    MISSING|    null|          MISSING|MISSING|   null|       MISSING|         MISSING|MISSING|  null|      MISSING| MISSING|  MISSING|        MISSING|    MISSING|  MISSING|   null|  MISSING| null|MISSING|         MISSING|MISSING|null|  MISSING|     MISSING|MISSING|   null|   MISSING|      MISSING|  null|  MISSING|     null|   MISSING| MISSING|null|    null|           MISSING|     MISSING|  MISSING|null|    MISSING|  null|  MISSING|  null|  MISSING|  null|    MISSING| MISSING|  null|MISSING|  null| MISSING|  null| MISSING|null|  MISSING|   MISSING|MISSING| null|  MISSING|   null|  MISSING|null|  MISSING|     null|  MISSING|  MISSING|      null| MISSING|MISSING|  MISSING|null|  MISSING|   null|  MISSING|  null|  MISSING|     null|  MISSING|null|  MISSING|null|  MISSING| null|   MISSING| null|   MISSING|    null|   MISSING|null|   MISSING| null|   MISSING|   null|   MISSING|       null|   MISSING|   null|         MISSING|   MISSING|        null|\n",
      "|  0|  1|   2|80294|   1.0|      SESAME|PLASTIC BAG|      PRETZEL|SHELF|  STABLE|            MISSING|MISSING|             MISSING|SANDWICH|        MISSING|   MISSING|null|MISSING|             MISSING|MISSING| null|          MISSING|    MISSING|  null|MISSING|   1.5 GRAMS|     MISSING|  MISSING| MISSING|   MISSING|null|    MISSING|    null|          MISSING|MISSING|   null|       MISSING|         MISSING|MISSING|  null|      MISSING| MISSING|  MISSING|        MISSING|    MISSING|  MISSING|   null|  MISSING| null|MISSING|         MISSING|MISSING|null|  MISSING|     MISSING|MISSING|   null|   MISSING|      MISSING|  null|  MISSING|     null|   MISSING| MISSING|null|    null|           MISSING|     MISSING|  MISSING|null|    MISSING|  null|  MISSING|  null|  MISSING|  null|    MISSING| MISSING|  null|MISSING|  null| MISSING|  null| MISSING|null|  MISSING|   MISSING|MISSING| null|  MISSING|   null|  MISSING|null|  MISSING|     null|  MISSING|  MISSING|      null| MISSING|MISSING|  MISSING|null|  MISSING|   null|  MISSING|  null|  MISSING|     null|  MISSING|null|  MISSING|null|  MISSING| null|   MISSING| null|   MISSING|    null|   MISSING|null|   MISSING| null|   MISSING|   null|   MISSING|       null|   MISSING|   null|         MISSING|   MISSING|        null|\n",
      "|  0|  1|   2|80296|  0.85|      SESAME|PLASTIC BAG|      PRETZEL|SHELF|  STABLE|            MISSING|MISSING|             MISSING|   STICK|        MISSING|   MISSING|null|MISSING|                SOFT|MISSING| null|          MISSING|    MISSING|  null|MISSING|     MISSING|     MISSING|  MISSING| MISSING|   MISSING|null|    MISSING|    null|          MISSING|MISSING|   null|       MISSING|         MISSING|MISSING|  null|      MISSING| MISSING|  MISSING|        MISSING|    MISSING|  MISSING|   null|  MISSING| null|MISSING|         MISSING|MISSING|null|  MISSING|     MISSING|MISSING|   null|   MISSING|      MISSING|  null|  MISSING|     null|   MISSING| MISSING|null|    null|           MISSING|     MISSING|  MISSING|null|    MISSING|  null|  MISSING|  null|  MISSING|  null|    MISSING| MISSING|  null|MISSING|  null| MISSING|  null| MISSING|null|  MISSING|   MISSING|MISSING| null|  MISSING|   null|  MISSING|null|  MISSING|     null|  MISSING|  MISSING|      null| MISSING|MISSING|  MISSING|null|  MISSING|   null|  MISSING|  null|  MISSING|     null|  MISSING|null|  MISSING|null|  MISSING| null|   MISSING| null|   MISSING|    null|   MISSING|null|   MISSING| null|   MISSING|   null|   MISSING|       null|   MISSING|   null|         MISSING|   MISSING|        null|\n",
      "|  0|  1|   2|83302|0.4844|     MISSING|        BAG|    SNACK MIX|SHELF|  STABLE|            MISSING|MISSING|             MISSING|ASSORTED|        MISSING|   MISSING|null|MISSING|             MISSING|MISSING| null|          MISSING|    MISSING|  null|MISSING|     MISSING|     MISSING|  MISSING| MISSING|   MISSING|null|    MISSING|    null|          MISSING|MISSING|   null|       MISSING|         MISSING|MISSING|  null|      MISSING| MISSING|  MISSING|        MISSING|    MISSING|  MISSING|   null|  MISSING| null|MISSING|         MISSING|MISSING|null|  MISSING|     MISSING|MISSING|   null|   MISSING|      MISSING|  null|  MISSING|     null|   MISSING| MISSING|null|    null|           MISSING|     MISSING|  MISSING|null|    MISSING|  null|  MISSING|  null|  MISSING|  null|    MISSING| MISSING|  null|MISSING|  null| MISSING|  null| MISSING|null|  MISSING|   MISSING|MISSING| null|  MISSING|   null|  MISSING|null|  MISSING|     null|  MISSING| ASSORTED|      null| MISSING|MISSING|  MISSING|null|  MISSING|   null|  MISSING|  null|  MISSING|     null|  MISSING|null|  MISSING|null|  MISSING| null|   MISSING| null|   MISSING|    null|   MISSING|null|   MISSING| null|   MISSING|   null|   MISSING|       null|   MISSING|   null|         MISSING|   MISSING|        null|\n",
      "|  0|  1|   9| 7436| 1.125|    ASSORTED|        TIN|  RTE POPCORN|SHELF|  STABLE|            MISSING|MISSING|             MISSING| MISSING|        MISSING|   MISSING|null|MISSING|             MISSING|MISSING| null|          MISSING|    MISSING|  null|MISSING|     5 GRAMS|     MISSING|  MISSING|ASSORTED|   MISSING|null|    MISSING|    null|          MISSING|MISSING|   null|       MISSING|         MISSING|MISSING|  null|      MISSING| MISSING|  MISSING|        MISSING|    MISSING|  MISSING|   null|  MISSING| null|MISSING|         MISSING|MISSING|null|  MISSING|     MISSING|MISSING|   null|   MISSING|      MISSING|  null|  MISSING|     null|   MISSING| MISSING|null|    null|           MISSING|     MISSING|  MISSING|null|    MISSING|  null|  MISSING|  null|  MISSING|  null|    MISSING| MISSING|  null|MISSING|  null| MISSING|  null| MISSING|null|  MISSING|   MISSING|MISSING| null|  MISSING|   null|  MISSING|null|  MISSING|     null|  MISSING|  MISSING|      null| MISSING|MISSING|  MISSING|null|  MISSING|   null|  MISSING|  null|  MISSING|     null|  MISSING|null|  MISSING|null|  MISSING| null|   MISSING| null|   MISSING|    null|   MISSING|null|   MISSING| null|   MISSING|   null|   MISSING|       null|   MISSING|   null|         MISSING|   MISSING|        null|\n",
      "|  0|  1| 901|    3|0.4375|     MISSING|        BAG|TORTILLA CHIP|SHELF|  STABLE|            MISSING|MISSING|             LOW FAT| MISSING|        MISSING|   MISSING|null|MISSING|               BAKED|MISSING| null|          MISSING|    MISSING|  null|MISSING|     2 GRAMS|     1 OUNCE|  MISSING| MISSING|   MISSING|null|    MISSING|    null|          MISSING|MISSING|   null|       MISSING|         MISSING|MISSING|  null|      MISSING| MISSING|  MISSING|        MISSING|    MISSING|  MISSING|   null|  MISSING| null|MISSING|         MISSING|MISSING|null|  MISSING|     MISSING|MISSING|   null|   MISSING|      MISSING|  null|  MISSING|     null|   MISSING| MISSING|null|    null|           MISSING|     MISSING|  MISSING|null|    MISSING|  null|  MISSING|  null|  MISSING|  null|    MISSING| MISSING|  null|MISSING|  null| MISSING|  null|TRIANGLE|null|  MISSING|   MISSING|MISSING| null|  MISSING|   null|  MISSING|null|  MISSING|     null|  MISSING|  MISSING|      null| MISSING|MISSING|  MISSING|null|  MISSING|   null|  MISSING|  null|  MISSING|     null|  MISSING|null|  MISSING|null|  MISSING| null|   MISSING| null|   MISSING|    null|   MISSING|null|   MISSING| null|   MISSING|   null|   MISSING|       null|   MISSING|   null|            CORN|   MISSING|        null|\n",
      "|  0|  1| 901|    4|0.4375|    ORIGINAL|        BAG|TORTILLA CHIP|SHELF|  STABLE|            MISSING|MISSING|             LOW FAT| MISSING|        MISSING|   MISSING|null|MISSING|    RESTAURANT STYLE|MISSING| null|          MISSING|    MISSING|  null|MISSING|     2 GRAMS|     MISSING|  MISSING| MISSING|   MISSING|null|    MISSING|    null|          MISSING|MISSING|   null|       MISSING|         MISSING|MISSING|  null|      MISSING| MISSING|  MISSING|        MISSING|    MISSING|  MISSING|   null|  MISSING| null|MISSING|         MISSING|MISSING|null|  MISSING|     MISSING|MISSING|   null|   MISSING|      MISSING|  null|  MISSING|     null|   MISSING| MISSING|null|    null|           MISSING|     MISSING|  MISSING|null|    MISSING|  null|  MISSING|  null|  MISSING|  null|    MISSING| MISSING|  null|MISSING|  null| MISSING|  null| QUARTER|null|  MISSING|   MISSING|MISSING| null|  MISSING|   null|  MISSING|null|  MISSING|     null|  MISSING|  MISSING|      null| MISSING|MISSING|  MISSING|null|  MISSING|   null|  MISSING|  null|  MISSING|     null|  MISSING|null|  MISSING|null|  MISSING| null|   MISSING| null|   MISSING|    null|   MISSING|null|   MISSING| null|   MISSING|   null|   MISSING|       null|   MISSING|   null|      WHITE CORN|   MISSING|        null|\n",
      "|  0|  1| 901|    5|0.4375|CHILI & LIME|        BAG|TORTILLA CHIP|SHELF|  STABLE|            MISSING|MISSING|             LOW FAT| MISSING|        MISSING|   MISSING|null|MISSING|               BAKED|MISSING| null|          MISSING|    MISSING|  null|MISSING|     2 GRAMS|     1 OUNCE|  MISSING| MISSING|   MISSING|null|    MISSING|    null|          MISSING|MISSING|   null|       MISSING|         MISSING|MISSING|  null|      MISSING| MISSING|  MISSING|        MISSING|    MISSING|  MISSING|   null|  MISSING| null|MISSING|         MISSING|MISSING|null|  MISSING|     MISSING|MISSING|   null|   MISSING|      MISSING|  null|  MISSING|     null|   MISSING| MISSING|null|    null|           MISSING|     MISSING|  MISSING|null|    MISSING|  null|  MISSING|  null|  MISSING|  null|    MISSING| MISSING|  null|MISSING|  null| MISSING|  null|TRIANGLE|null|  MISSING|   MISSING|MISSING| null|  MISSING|   null|  MISSING|null|  MISSING|     null|  MISSING|  MISSING|      null| MISSING|MISSING|  MISSING|null|  MISSING|   null|  MISSING|  null|  MISSING|     null|  MISSING|null|  MISSING|null|  MISSING| null|   MISSING| null|   MISSING|    null|   MISSING|null|   MISSING| null|   MISSING|   null|   MISSING|       null|   MISSING|   null|            CORN|   MISSING|        null|\n",
      "|  0|  1| 901|    7|0.4375|    ORIGINAL|        BAG|TORTILLA CHIP|SHELF|  STABLE|            MISSING|MISSING|ZERO GRAMS TRANS FAT| MISSING|        MISSING|   MISSING|null|MISSING|BAKED NATURAL ORGANC|MISSING| null|          MISSING|    MISSING|  null|MISSING|     3 GRAMS|     1 OUNCE|  MISSING| MISSING|   MISSING|null|    MISSING|    null|          MISSING|MISSING|   null|       MISSING|         MISSING|MISSING|  null|      MISSING| MISSING|  MISSING|        MISSING|    MISSING|  MISSING|   null|  MISSING| null|MISSING|         MISSING|MISSING|null|  MISSING|     MISSING|MISSING|   null|   MISSING|      MISSING|  null|  MISSING|     null|   MISSING| MISSING|null|    null|           MISSING|     MISSING|  MISSING|null|    MISSING|  null|  MISSING|  null|  MISSING|  null|    MISSING| MISSING|  null|MISSING|  null| MISSING|  null| QUARTER|null|  MISSING|   MISSING|MISSING| null|  MISSING|   null|  MISSING|null|  MISSING|     null|  MISSING|  MISSING|      null| MISSING|MISSING|  MISSING|null|  MISSING|   null|  MISSING|  null|  MISSING|     null|  MISSING|null|  MISSING|null|  MISSING| null|   MISSING| null|   MISSING|    null|   MISSING|null|   MISSING| null|   MISSING|   null|   MISSING|       null|   MISSING|   null|       BLUE CORN|   MISSING|        null|\n",
      "|  0|  1| 901|   12|0.4375|    ORIGINAL|        BAG|TORTILLA CHIP|SHELF|  STABLE|            MISSING|MISSING|             LOW FAT| MISSING|        MISSING|   MISSING|null|MISSING|       ORGANIC BAKED|MISSING| null|          MISSING|    MISSING|  null|MISSING|     2 GRAMS|     1 OUNCE|  MISSING| MISSING|   MISSING|null|    MISSING|    null| NO PRESERVATIVES|MISSING|   null|       MISSING|         MISSING|MISSING|  null|      MISSING| MISSING|  MISSING|        MISSING|    MISSING|  MISSING|   null|  MISSING| null|MISSING|         MISSING|MISSING|null|  MISSING|     MISSING|MISSING|   null|   MISSING|      MISSING|  null|  MISSING|     null|   MISSING| MISSING|null|    null|           MISSING|     MISSING|  MISSING|null|    MISSING|  null|  MISSING|  null|  MISSING|  null|    MISSING| MISSING|  null|MISSING|  null| MISSING|  null| QUARTER|null|  MISSING|   MISSING|MISSING| null|  MISSING|   null|  MISSING|null|  MISSING|     null|  MISSING|  MISSING|      null| MISSING|MISSING|  MISSING|null|  MISSING|   null|  MISSING|  null|  MISSING|     null|  MISSING|null|  MISSING|null|  MISSING| null|   MISSING| null|   MISSING|    null|   MISSING|null|   MISSING| null|   MISSING|   null|   MISSING|       null|   MISSING|   null|        RED CORN|   MISSING|        null|\n",
      "+---+---+----+-----+------+------------+-----------+-------------+-----+--------+-------------------+-------+--------------------+--------+---------------+----------+----+-------+--------------------+-------+-----+-----------------+-----------+------+-------+------------+------------+---------+--------+----------+----+-----------+--------+-----------------+-------+-------+--------------+----------------+-------+------+-------------+--------+---------+---------------+-----------+---------+-------+---------+-----+-------+----------------+-------+----+---------+------------+-------+-------+----------+-------------+------+---------+---------+----------+--------+----+--------+------------------+------------+---------+----+-----------+------+---------+------+---------+------+-----------+--------+------+-------+------+--------+------+--------+----+---------+----------+-------+-----+---------+-------+---------+----+---------+---------+---------+---------+----------+--------+-------+---------+----+---------+-------+---------+------+---------+---------+---------+----+---------+----+---------+-----+----------+-----+----------+--------+----------+----+----------+-----+----------+-------+----------+-----------+----------+-------+----------------+----------+------------+\n",
      "only showing top 10 rows\n",
      "\n"
     ]
    }
   ],
   "source": [
    "# Check the product attributes PySpark DataFrame structure.\n",
    "product_attributes_df.show(10)"
   ]
  },
  {
   "cell_type": "code",
   "execution_count": 63,
   "metadata": {},
   "outputs": [
    {
     "name": "stdout",
     "output_type": "stream",
     "text": [
      "+-------+----+---+---+-----+-----+-----+-------+----+---+---+\n",
      "|IRI_KEY|WEEK| SY| GE| VEND| ITEM|UNITS|DOLLARS|   F|  D| PR|\n",
      "+-------+----+---+---+-----+-----+-----+-------+----+---+---+\n",
      "| 234212|1687|  0|  1|84114|11336|    5|   12.5|NONE|  1|  0|\n",
      "| 234212|1687|  0|  1|84114|11391|    5|   12.5|NONE|  0|  0|\n",
      "| 234212|1687|  0|  1|84114|10990|    9|   22.5|NONE|  1|  0|\n",
      "| 234212|1687|  0|  2|84114|10813|    5|  12.75|NONE|  1|  1|\n",
      "| 234212|1687|  0|  1|84114|  999|    2|    5.0|NONE|  0|  0|\n",
      "+-------+----+---+---+-----+-----+-----+-------+----+---+---+\n",
      "only showing top 5 rows\n",
      "\n"
     ]
    }
   ],
   "source": [
    "# Check the sell out 1 PySpark DataFrame structure.\n",
    "sellout1_df.show(5)"
   ]
  },
  {
   "cell_type": "code",
   "execution_count": 64,
   "metadata": {},
   "outputs": [
    {
     "name": "stdout",
     "output_type": "stream",
     "text": [
      "+-------+----+---+---+-----+-----+-----+-------+----+---+---+\n",
      "|IRI_KEY|WEEK| SY| GE| VEND| ITEM|UNITS|DOLLARS|   F|  D| PR|\n",
      "+-------+----+---+---+-----+-----+-----+-------+----+---+---+\n",
      "| 234212|1635|  0|  3|78271| 2060|    6|   12.0|NONE|  0|  1|\n",
      "| 234212|1635|  0|  3|78271| 2061|    4|   8.79|NONE|  0|  1|\n",
      "| 234212|1635|  0|  1|84114|11336|    5|   15.0|NONE|  0|  0|\n",
      "| 234212|1635|  0|  1|84114|11391|    4|   12.0|NONE|  0|  0|\n",
      "| 234212|1635|  0|  1|84114|10990|    8|  21.96|NONE|  0|  1|\n",
      "+-------+----+---+---+-----+-----+-----+-------+----+---+---+\n",
      "only showing top 5 rows\n",
      "\n"
     ]
    }
   ],
   "source": [
    "# Check the sell out 2 PySpark DataFrame structure.\n",
    "sellout2_df.show(5)"
   ]
  },
  {
   "cell_type": "code",
   "execution_count": 65,
   "metadata": {},
   "outputs": [
    {
     "name": "stdout",
     "output_type": "stream",
     "text": [
      "+--------+-------------------------+-----------------------+----------+-------------+----------+\n",
      "|IRI Week|Calendar week starting on|Calendar week ending on|Unnamed: 3|Calendar date|IRI Week.1|\n",
      "+--------+-------------------------+-----------------------+----------+-------------+----------+\n",
      "|    1479|               2007-12-31|             2008-01-06|      null|   1979-09-03|       1.0|\n",
      "|    1480|               2008-01-07|             2008-01-13|      null|         null|      null|\n",
      "|    1481|               2008-01-14|             2008-01-20|      null|         null|      null|\n",
      "|    1482|               2008-01-21|             2008-01-27|      null|         null|      null|\n",
      "|    1483|               2008-01-28|             2008-02-03|      null|         null|      null|\n",
      "+--------+-------------------------+-----------------------+----------+-------------+----------+\n",
      "only showing top 5 rows\n",
      "\n"
     ]
    }
   ],
   "source": [
    "# Check the week translation PySpark DataFrame structure.\n",
    "week_translation_df.show(5)"
   ]
  },
  {
   "cell_type": "code",
   "execution_count": 66,
   "metadata": {},
   "outputs": [
    {
     "name": "stdout",
     "output_type": "stream",
     "text": [
      "+--------------------+------------+------------+------------+-------+--------------------+-----+-----------------+---+---+-----+----+--------------------------------------------------------------------------------+------+------------+-----------+------------+-----------+--------------+-------------------+-----------+\n",
      "|                  L1|          L2|          L3|          L4|     L5|                  L9|Level|              UPC| SY| GE| VEND|ITEM|*STUBSPEC 1431RC                                                         00004  |VOL_EQ|PRODUCT TYPE|    PACKAGE|FLAVOR/SCENT|FAT CONTENT|COOKING METHOD|SALT/SODIUM CONTENT|TYPE OF CUT|\n",
      "+--------------------+------------+------------+------------+-------+--------------------+-----+-----------------+---+---+-----+----+--------------------------------------------------------------------------------+------+------------+-----------+------------+-----------+--------------+-------------------+-----------+\n",
      "|CATEGORY - SALTY ...|POTATO CHIPS|ACTON CO INC|ACTON CO INC|GORDONS|+GORDN BBQ PTCHP ...|    9|00-02-36300-04650|  0|  2|36300|4650|                                                                    +GORDN BB...| 0.375| POTATO CHIP|        BAG|    BARBECUE|    MISSING|       MISSING|            MISSING|       THIN|\n",
      "|CATEGORY - SALTY ...|POTATO CHIPS|ACTON CO INC|ACTON CO INC|GORDONS|+GORDN ORGL PTCHP...|    9|00-01-36300-04632|  0|  1|36300|4632|                                                                    +GORDN OR...|0.9063| POTATO CHIP|PLASTIC BAG|    ORIGINAL|    MISSING|       MISSING|            MISSING|       FLAT|\n",
      "|CATEGORY - SALTY ...|POTATO CHIPS|ACTON CO INC|ACTON CO INC|GORDONS|+GORDN REDHT PTCH...|    9|00-02-36300-04652|  0|  2|36300|4652|                                                                    +GORDN RE...| 0.375| POTATO CHIP|        BAG|     RED HOT|    MISSING|       MISSING|            MISSING|    RIPPLED|\n",
      "|CATEGORY - SALTY ...|POTATO CHIPS|ACTON CO INC|ACTON CO INC|GORDONS|+GORDN REG PTCHP ...|    9|00-03-36300-04641|  0|  3|36300|4641|                                                                    +GORDN RE...| 0.375| POTATO CHIP|        BAG|     REGULAR|    MISSING|       MISSING|            MISSING|    RIPPLED|\n",
      "|CATEGORY - SALTY ...|POTATO CHIPS|ACTON CO INC|ACTON CO INC|GORDONS|+GORDN REG PTCHP ...|    9|00-02-36300-04640|  0|  2|36300|4640|                                                                    +GORDN RE...| 0.375| POTATO CHIP|        BAG|     REGULAR|    MISSING|       MISSING|            MISSING|       THIN|\n",
      "+--------------------+------------+------------+------------+-------+--------------------+-----+-----------------+---+---+-----+----+--------------------------------------------------------------------------------+------+------------+-----------+------------+-----------+--------------+-------------------+-----------+\n",
      "only showing top 5 rows\n",
      "\n"
     ]
    }
   ],
   "source": [
    "# Check the product salt snacks PySpark DataFrame structure.\n",
    "product_saltsnacks_df.show(5)"
   ]
  },
  {
   "cell_type": "code",
   "execution_count": 67,
   "metadata": {},
   "outputs": [
    {
     "name": "stdout",
     "output_type": "stream",
     "text": [
      "Value exists in the column\n"
     ]
    }
   ],
   "source": [
    "# Confirm if PEPSICO appears on column L3 - Parent Company.\n",
    "value_exists = product_saltsnacks_df.filter(product_saltsnacks_df[\"L3\"].like(\"PEPSICO%\"))\n",
    "\n",
    "# Check if the value exists.\n",
    "if value_exists.count() > 0:\n",
    "    print(\"Value exists in the column\")\n",
    "else:\n",
    "    print(\"Value does not exist in the column\")\n",
    "\n",
    "# Check: The value exists in column L3."
   ]
  },
  {
   "attachments": {},
   "cell_type": "markdown",
   "metadata": {},
   "source": [
    "### **• Concatenate the two Sell Out PySpark Dataframes:**\n",
    "\n",
    "Since both sell out pyspark dataframes have the same schema (i.e., same columns and data types), a new pyspark dataframe will be created using the union() method."
   ]
  },
  {
   "cell_type": "code",
   "execution_count": 68,
   "metadata": {},
   "outputs": [],
   "source": [
    "# Concatenate both sell out pyspark dataframes to make them easier to manage.\n",
    "sellout_concat_df = sellout2_df.union(sellout1_df)"
   ]
  },
  {
   "cell_type": "code",
   "execution_count": 69,
   "metadata": {},
   "outputs": [
    {
     "data": {
      "text/plain": [
       "40414203"
      ]
     },
     "execution_count": 69,
     "metadata": {},
     "output_type": "execute_result"
    }
   ],
   "source": [
    "# Check the combined number of rows of the two sell out dataframes.\n",
    "sellout1_df.count() + sellout2_df.count()"
   ]
  },
  {
   "cell_type": "code",
   "execution_count": 70,
   "metadata": {},
   "outputs": [
    {
     "data": {
      "text/plain": [
       "40414203"
      ]
     },
     "execution_count": 70,
     "metadata": {},
     "output_type": "execute_result"
    }
   ],
   "source": [
    "# Check the total number of rows of the new concatenated sellout dataframe.\n",
    "sellout_concat_df.count()\n",
    "\n",
    "# Check: The number of rows is still the same."
   ]
  },
  {
   "attachments": {},
   "cell_type": "markdown",
   "metadata": {},
   "source": [
    "### **• Join the IRI Week Translation Column:**\n",
    "\n",
    "In order to interpret the IRI Week code, the \"Calendar week starting on\" column will be added using join() method."
   ]
  },
  {
   "cell_type": "code",
   "execution_count": 71,
   "metadata": {},
   "outputs": [],
   "source": [
    "# Change the name of the join column in the sell out dataframe before adding in the new column.\n",
    "sellout_concat_df = sellout_concat_df.withColumnRenamed(\"Week\", \"IRI Week\")"
   ]
  },
  {
   "cell_type": "code",
   "execution_count": 72,
   "metadata": {},
   "outputs": [],
   "source": [
    "# Perform the join on the IRI Week column.\n",
    "sellout_concat_df = sellout_concat_df.join(week_translation_df.select(\"IRI Week\", \"Calendar week starting on\"), on=\"IRI Week\", how= \"left\")"
   ]
  },
  {
   "cell_type": "code",
   "execution_count": 73,
   "metadata": {},
   "outputs": [
    {
     "name": "stdout",
     "output_type": "stream",
     "text": [
      "+--------+-------+---+---+-----+-----+-----+-------+----+---+---+-------------------------+\n",
      "|IRI Week|IRI_KEY| SY| GE| VEND| ITEM|UNITS|DOLLARS|   F|  D| PR|Calendar week starting on|\n",
      "+--------+-------+---+---+-----+-----+-----+-------+----+---+---+-------------------------+\n",
      "|    1635| 234212|  0|  3|78271| 2060|    6|   12.0|NONE|  0|  1|               2010-12-27|\n",
      "|    1635| 234212|  0|  3|78271| 2061|    4|   8.79|NONE|  0|  1|               2010-12-27|\n",
      "|    1635| 234212|  0|  1|84114|11336|    5|   15.0|NONE|  0|  0|               2010-12-27|\n",
      "|    1635| 234212|  0|  1|84114|11391|    4|   12.0|NONE|  0|  0|               2010-12-27|\n",
      "|    1635| 234212|  0|  1|84114|10990|    8|  21.96|NONE|  0|  1|               2010-12-27|\n",
      "+--------+-------+---+---+-----+-----+-----+-------+----+---+---+-------------------------+\n",
      "only showing top 5 rows\n",
      "\n"
     ]
    }
   ],
   "source": [
    "# Check the new schema of the sell out dataframe.\n",
    "sellout_concat_df.show(5)\n",
    "\n",
    "# Check: The new column was successfully added."
   ]
  },
  {
   "cell_type": "code",
   "execution_count": 74,
   "metadata": {},
   "outputs": [
    {
     "data": {
      "text/plain": [
       "40414203"
      ]
     },
     "execution_count": 74,
     "metadata": {},
     "output_type": "execute_result"
    }
   ],
   "source": [
    "# Check the total number of rows of the transformed dataframe.\n",
    "sellout_concat_df.count()\n",
    "\n",
    "# Check: The number of rows is the same."
   ]
  },
  {
   "attachments": {},
   "cell_type": "markdown",
   "metadata": {},
   "source": [
    "### **• Build the UPC - Universal Product Code Column:**\n",
    "\n",
    "The UPC column will be derived using the available columns in the sell out dataframe, appropriate padding and concatenation, allowing both the parent company (L3) and product type columns to be later retrieved from the product salt snacks dataframe."
   ]
  },
  {
   "cell_type": "code",
   "execution_count": 75,
   "metadata": {},
   "outputs": [],
   "source": [
    "# Create a padded SY - System column.\n",
    "sellout_concat_df = sellout_concat_df.withColumn(\"SY_padded\", format_string(\"%02d\", sellout_concat_df[\"SY\"]))"
   ]
  },
  {
   "cell_type": "code",
   "execution_count": 76,
   "metadata": {},
   "outputs": [],
   "source": [
    "# Create a padded GE - Generation column.\n",
    "sellout_concat_df = sellout_concat_df.withColumn(\"GE_padded\", format_string(\"%02d\", sellout_concat_df[\"GE\"]))"
   ]
  },
  {
   "cell_type": "code",
   "execution_count": 77,
   "metadata": {},
   "outputs": [],
   "source": [
    "# Create a padded VEND - Vendor column.\n",
    "sellout_concat_df = sellout_concat_df.withColumn(\"VEND_padded\", format_string(\"%05d\", sellout_concat_df[\"VEND\"]))"
   ]
  },
  {
   "cell_type": "code",
   "execution_count": 78,
   "metadata": {},
   "outputs": [],
   "source": [
    "# Create a padded ITEM - Item column.\n",
    "sellout_concat_df = sellout_concat_df.withColumn(\"ITEM_padded\", format_string(\"%05d\", sellout_concat_df[\"ITEM\"]))"
   ]
  },
  {
   "cell_type": "code",
   "execution_count": 79,
   "metadata": {},
   "outputs": [
    {
     "name": "stdout",
     "output_type": "stream",
     "text": [
      "+--------+-------+---+---+-----+-----+-----+-------+----+---+---+-------------------------+---------+---------+-----------+-----------+\n",
      "|IRI Week|IRI_KEY| SY| GE| VEND| ITEM|UNITS|DOLLARS|   F|  D| PR|Calendar week starting on|SY_padded|GE_padded|VEND_padded|ITEM_padded|\n",
      "+--------+-------+---+---+-----+-----+-----+-------+----+---+---+-------------------------+---------+---------+-----------+-----------+\n",
      "|    1635| 234212|  0|  3|78271| 2060|    6|   12.0|NONE|  0|  1|               2010-12-27|       00|       03|      78271|      02060|\n",
      "|    1635| 234212|  0|  3|78271| 2061|    4|   8.79|NONE|  0|  1|               2010-12-27|       00|       03|      78271|      02061|\n",
      "|    1635| 234212|  0|  1|84114|11336|    5|   15.0|NONE|  0|  0|               2010-12-27|       00|       01|      84114|      11336|\n",
      "|    1635| 234212|  0|  1|84114|11391|    4|   12.0|NONE|  0|  0|               2010-12-27|       00|       01|      84114|      11391|\n",
      "|    1635| 234212|  0|  1|84114|10990|    8|  21.96|NONE|  0|  1|               2010-12-27|       00|       01|      84114|      10990|\n",
      "+--------+-------+---+---+-----+-----+-----+-------+----+---+---+-------------------------+---------+---------+-----------+-----------+\n",
      "only showing top 5 rows\n",
      "\n"
     ]
    }
   ],
   "source": [
    "# Check the new schema of the sell out dataframe.\n",
    "sellout_concat_df.show(5)\n",
    "\n",
    "# Check: The new columns were successfully added."
   ]
  },
  {
   "cell_type": "code",
   "execution_count": 80,
   "metadata": {},
   "outputs": [],
   "source": [
    "# Build the UPC column using the recently added padded columns and concatenation.\n",
    "sellout_concat_df = sellout_concat_df.withColumn(\"UPC\", concat(sellout_concat_df[\"SY_padded\"],lit(\"-\"),sellout_concat_df[\"GE_padded\"],lit(\"-\"),sellout_concat_df[\"VEND_padded\"],lit(\"-\"),sellout_concat_df[\"ITEM_padded\"]))"
   ]
  },
  {
   "cell_type": "code",
   "execution_count": 81,
   "metadata": {},
   "outputs": [
    {
     "name": "stdout",
     "output_type": "stream",
     "text": [
      "+--------+-------+---+---+-----+-----+-----+-------+----+---+---+-------------------------+---------+---------+-----------+-----------+-----------------+\n",
      "|IRI Week|IRI_KEY| SY| GE| VEND| ITEM|UNITS|DOLLARS|   F|  D| PR|Calendar week starting on|SY_padded|GE_padded|VEND_padded|ITEM_padded|              UPC|\n",
      "+--------+-------+---+---+-----+-----+-----+-------+----+---+---+-------------------------+---------+---------+-----------+-----------+-----------------+\n",
      "|    1635| 234212|  0|  3|78271| 2060|    6|   12.0|NONE|  0|  1|               2010-12-27|       00|       03|      78271|      02060|00-03-78271-02060|\n",
      "|    1635| 234212|  0|  3|78271| 2061|    4|   8.79|NONE|  0|  1|               2010-12-27|       00|       03|      78271|      02061|00-03-78271-02061|\n",
      "|    1635| 234212|  0|  1|84114|11336|    5|   15.0|NONE|  0|  0|               2010-12-27|       00|       01|      84114|      11336|00-01-84114-11336|\n",
      "|    1635| 234212|  0|  1|84114|11391|    4|   12.0|NONE|  0|  0|               2010-12-27|       00|       01|      84114|      11391|00-01-84114-11391|\n",
      "|    1635| 234212|  0|  1|84114|10990|    8|  21.96|NONE|  0|  1|               2010-12-27|       00|       01|      84114|      10990|00-01-84114-10990|\n",
      "+--------+-------+---+---+-----+-----+-----+-------+----+---+---+-------------------------+---------+---------+-----------+-----------+-----------------+\n",
      "only showing top 5 rows\n",
      "\n"
     ]
    }
   ],
   "source": [
    "# Check the new schema of the sell out dataframe.\n",
    "sellout_concat_df.show(5)\n",
    "\n",
    "# Check: The new UPC column was successfully created."
   ]
  },
  {
   "cell_type": "code",
   "execution_count": 82,
   "metadata": {},
   "outputs": [
    {
     "data": {
      "text/plain": [
       "40414203"
      ]
     },
     "execution_count": 82,
     "metadata": {},
     "output_type": "execute_result"
    }
   ],
   "source": [
    "# Check the total number of rows of the sell out dataframe.\n",
    "sellout_concat_df.count()\n",
    "\n",
    "# Check: The number of rows is the same."
   ]
  },
  {
   "attachments": {},
   "cell_type": "markdown",
   "metadata": {},
   "source": [
    "### **• Join the Masked and Market Name Columns:**\n",
    "\n",
    "In order to identify the top selling regions, the \"MskdName\" and \"Market_Name\" columns will be added using the join() method."
   ]
  },
  {
   "cell_type": "code",
   "execution_count": 83,
   "metadata": {},
   "outputs": [],
   "source": [
    "# Perform a join on the IRI_KEY column to add the MskdName column.\n",
    "sellout_concat_df = sellout_concat_df.join(delivery_stores_df.select(\"IRI_KEY\", \"MskdName\"), on=\"IRI_KEY\", how=\"left\")"
   ]
  },
  {
   "cell_type": "code",
   "execution_count": 84,
   "metadata": {},
   "outputs": [],
   "source": [
    "# Perform a join on the IRI_KEY column to add the Market_Name column.\n",
    "sellout_concat_df = sellout_concat_df.join(delivery_stores_df.select(\"IRI_KEY\", \"Market_Name\"), on=\"IRI_KEY\", how=\"left\")"
   ]
  },
  {
   "cell_type": "code",
   "execution_count": 85,
   "metadata": {},
   "outputs": [
    {
     "name": "stdout",
     "output_type": "stream",
     "text": [
      "+-------+--------+---+---+-----+-----+-----+-------+----+---+---+-------------------------+---------+---------+-----------+-----------+-----------------+--------+-----------+\n",
      "|IRI_KEY|IRI Week| SY| GE| VEND| ITEM|UNITS|DOLLARS|   F|  D| PR|Calendar week starting on|SY_padded|GE_padded|VEND_padded|ITEM_padded|              UPC|MskdName|Market_Name|\n",
      "+-------+--------+---+---+-----+-----+-----+-------+----+---+---+-------------------------+---------+---------+-----------+-----------+-----------------+--------+-----------+\n",
      "| 234212|    1635|  0|  3|78271| 2060|    6|   12.0|NONE|  0|  1|               2010-12-27|       00|       03|      78271|      02060|00-03-78271-02060| Chain42|    CHICAGO|\n",
      "| 234212|    1635|  0|  3|78271| 2061|    4|   8.79|NONE|  0|  1|               2010-12-27|       00|       03|      78271|      02061|00-03-78271-02061| Chain42|    CHICAGO|\n",
      "| 234212|    1635|  0|  1|84114|11336|    5|   15.0|NONE|  0|  0|               2010-12-27|       00|       01|      84114|      11336|00-01-84114-11336| Chain42|    CHICAGO|\n",
      "| 234212|    1635|  0|  1|84114|11391|    4|   12.0|NONE|  0|  0|               2010-12-27|       00|       01|      84114|      11391|00-01-84114-11391| Chain42|    CHICAGO|\n",
      "| 234212|    1635|  0|  1|84114|10990|    8|  21.96|NONE|  0|  1|               2010-12-27|       00|       01|      84114|      10990|00-01-84114-10990| Chain42|    CHICAGO|\n",
      "+-------+--------+---+---+-----+-----+-----+-------+----+---+---+-------------------------+---------+---------+-----------+-----------+-----------------+--------+-----------+\n",
      "only showing top 5 rows\n",
      "\n"
     ]
    }
   ],
   "source": [
    "# Check the new schema of the sell out dataframe.\n",
    "sellout_concat_df.show(5)\n",
    "\n",
    "# Check: The new columns were successfully created."
   ]
  },
  {
   "cell_type": "code",
   "execution_count": 86,
   "metadata": {},
   "outputs": [
    {
     "data": {
      "text/plain": [
       "40414203"
      ]
     },
     "execution_count": 86,
     "metadata": {},
     "output_type": "execute_result"
    }
   ],
   "source": [
    "# Check the total number of rows of the sell out dataframe.\n",
    "sellout_concat_df.count()\n",
    "\n",
    "# Check: The number of rows is the same."
   ]
  },
  {
   "attachments": {},
   "cell_type": "markdown",
   "metadata": {},
   "source": [
    "### **• Drop the Unecessary Columns:**\n",
    "\n",
    "In order to optimize the transformations performed on the sell out dataframe, uncessary columns like: IRI_KEY, IRI WEEK, SY, GE, F, SY_padded, GE_padded, VEND_padded and ITEM_padded will be removed."
   ]
  },
  {
   "cell_type": "code",
   "execution_count": 87,
   "metadata": {},
   "outputs": [],
   "source": [
    "# Drop the unecessary columns of the sellout dataframe.\n",
    "columns_to_drop = [\"IRI_KEY\", \"IRI WEEK\", \"SY\", \"GE\", \"F\", \"SY_padded\", \"GE_padded\", \"VEND_padded\", \"ITEM_padded\"]\n",
    "\n",
    "sellout_concat_trimmed_df = sellout_concat_df.drop(*columns_to_drop)"
   ]
  },
  {
   "cell_type": "code",
   "execution_count": 88,
   "metadata": {},
   "outputs": [
    {
     "name": "stdout",
     "output_type": "stream",
     "text": [
      "+-----+-----+-----+-------+---+---+-------------------------+-----------------+--------+-----------+\n",
      "| VEND| ITEM|UNITS|DOLLARS|  D| PR|Calendar week starting on|              UPC|MskdName|Market_Name|\n",
      "+-----+-----+-----+-------+---+---+-------------------------+-----------------+--------+-----------+\n",
      "|78271| 2060|    6|   12.0|  0|  1|               2010-12-27|00-03-78271-02060| Chain42|    CHICAGO|\n",
      "|78271| 2061|    4|   8.79|  0|  1|               2010-12-27|00-03-78271-02061| Chain42|    CHICAGO|\n",
      "|84114|11336|    5|   15.0|  0|  0|               2010-12-27|00-01-84114-11336| Chain42|    CHICAGO|\n",
      "|84114|11391|    4|   12.0|  0|  0|               2010-12-27|00-01-84114-11391| Chain42|    CHICAGO|\n",
      "|84114|10990|    8|  21.96|  0|  1|               2010-12-27|00-01-84114-10990| Chain42|    CHICAGO|\n",
      "+-----+-----+-----+-------+---+---+-------------------------+-----------------+--------+-----------+\n",
      "only showing top 5 rows\n",
      "\n"
     ]
    }
   ],
   "source": [
    "# Check the new schema of the sell out dataframe.\n",
    "sellout_concat_trimmed_df.show(5)\n",
    "\n",
    "# Check: The unecessary columns were successfully deleted."
   ]
  },
  {
   "cell_type": "code",
   "execution_count": 89,
   "metadata": {},
   "outputs": [
    {
     "data": {
      "text/plain": [
       "40414203"
      ]
     },
     "execution_count": 89,
     "metadata": {},
     "output_type": "execute_result"
    }
   ],
   "source": [
    "# Check the total number of rows of the sell out dataframe.\n",
    "sellout_concat_trimmed_df.count()\n",
    "\n",
    "# Check: The number of rows is the same."
   ]
  },
  {
   "attachments": {},
   "cell_type": "markdown",
   "metadata": {},
   "source": [
    "### **• Join the L3 - Parent Company and Product Type Columns:**\n",
    "\n",
    "In order to be able to identify the PepsiCo data entries and the different product types, the L3 and Product Type Columns will be added to the sell out dataframe using the join() method."
   ]
  },
  {
   "cell_type": "code",
   "execution_count": 90,
   "metadata": {},
   "outputs": [],
   "source": [
    "# Perform a join on the UPC column to add the L3 - Parent Company column.\n",
    "sellout_concat_trimmed_df = sellout_concat_trimmed_df.join(product_saltsnacks_df.select(\"UPC\", \"L3\"), on=\"UPC\", how=\"left\")"
   ]
  },
  {
   "cell_type": "code",
   "execution_count": 91,
   "metadata": {},
   "outputs": [],
   "source": [
    "# Perform a join on the UPC column to add the Product Type column.\n",
    "sellout_concat_trimmed_df = sellout_concat_trimmed_df.join(product_saltsnacks_df.select(\"UPC\", \"Product Type\"), on=\"UPC\", how=\"left\")"
   ]
  },
  {
   "cell_type": "code",
   "execution_count": 92,
   "metadata": {},
   "outputs": [
    {
     "name": "stdout",
     "output_type": "stream",
     "text": [
      "+-----------------+-----+-----+-----+-------+---+---+-------------------------+--------+-----------+----------------+------------+\n",
      "|              UPC| VEND| ITEM|UNITS|DOLLARS|  D| PR|Calendar week starting on|MskdName|Market_Name|              L3|Product Type|\n",
      "+-----------------+-----+-----+-----+-------+---+---+-------------------------+--------+-----------+----------------+------------+\n",
      "|00-03-78271-02060|78271| 2060|    6|   12.0|  0|  1|               2010-12-27| Chain42|    CHICAGO|            null|        null|\n",
      "|00-03-78271-02061|78271| 2061|    4|   8.79|  0|  1|               2010-12-27| Chain42|    CHICAGO|            null|        null|\n",
      "|00-01-84114-11336|84114|11336|    5|   15.0|  0|  0|               2010-12-27| Chain42|    CHICAGO|            null|        null|\n",
      "|00-01-84114-11391|84114|11391|    4|   12.0|  0|  0|               2010-12-27| Chain42|    CHICAGO|            null|        null|\n",
      "|00-01-84114-10990|84114|10990|    8|  21.96|  0|  1|               2010-12-27| Chain42|    CHICAGO|KETTLE FOODS INC| POTATO CHIP|\n",
      "+-----------------+-----+-----+-----+-------+---+---+-------------------------+--------+-----------+----------------+------------+\n",
      "only showing top 5 rows\n",
      "\n"
     ]
    }
   ],
   "source": [
    "# Check the new schema of the sell out dataframe.\n",
    "sellout_concat_trimmed_df.show(5)\n",
    "\n",
    "# Check: The new columns were successfully created."
   ]
  },
  {
   "cell_type": "code",
   "execution_count": 93,
   "metadata": {},
   "outputs": [
    {
     "data": {
      "text/plain": [
       "40414203"
      ]
     },
     "execution_count": 93,
     "metadata": {},
     "output_type": "execute_result"
    }
   ],
   "source": [
    "# Check the total number of rows of the new concate\n",
    "sellout_concat_trimmed_df.count()\n",
    "\n",
    "# Check: The number of rows is the same."
   ]
  },
  {
   "attachments": {},
   "cell_type": "markdown",
   "metadata": {},
   "source": [
    "### **• Find the Different Vendor Codes for PepsiCo:**\n",
    "\n",
    "Since some of rows have a null L3 value, in order to include all the PEPSICO INC entries all Vendor values that correspond to this player need to be traced."
   ]
  },
  {
   "cell_type": "code",
   "execution_count": 94,
   "metadata": {},
   "outputs": [
    {
     "name": "stdout",
     "output_type": "stream",
     "text": [
      "+-----+\n",
      "| VEND|\n",
      "+-----+\n",
      "|30000|\n",
      "|28400|\n",
      "|71461|\n",
      "+-----+\n",
      "\n"
     ]
    }
   ],
   "source": [
    "# Identify the distinct PepsiCo VEND values.\n",
    "distinct_vend_pepsico_values = sellout_concat_trimmed_df.filter(col(\"L3\").like(\"PEPS%\")).select('VEND').distinct()\n",
    "distinct_vend_pepsico_values.show()\n",
    "\n",
    "# Check: The following vendor codes: 28400, 30000, 71461 are PepsiCo related."
   ]
  },
  {
   "cell_type": "code",
   "execution_count": 95,
   "metadata": {},
   "outputs": [
    {
     "name": "stdout",
     "output_type": "stream",
     "text": [
      "+-----------+\n",
      "|         L3|\n",
      "+-----------+\n",
      "|       null|\n",
      "|PEPSICO INC|\n",
      "+-----------+\n",
      "\n"
     ]
    }
   ],
   "source": [
    "# Confirm that these VEND values only contain PEPSICO INC L3 values.\n",
    "distinct_vend_values = sellout_concat_trimmed_df.filter(col('VEND').isin([30000, 28400, 71461])).select('L3').distinct()\n",
    "distinct_vend_values.show()\n",
    "\n",
    "# Check: These vendor codes are only attributed to PepsiCo data entries."
   ]
  },
  {
   "cell_type": "code",
   "execution_count": 96,
   "metadata": {},
   "outputs": [
    {
     "name": "stdout",
     "output_type": "stream",
     "text": [
      "+-----------+\n",
      "|         L3|\n",
      "+-----------+\n",
      "|PEPSICO INC|\n",
      "+-----------+\n",
      "\n"
     ]
    }
   ],
   "source": [
    "# Confirm that PEPSICO INC is always written in the same way.\n",
    "distinct_pepsico_values = sellout_concat_trimmed_df.filter(col(\"L3\").like(\"PEP%\")).select(\"L3\").distinct()\n",
    "distinct_pepsico_values.show()\n",
    "\n",
    "# Check: PepsiCo is always written in the same way."
   ]
  },
  {
   "attachments": {},
   "cell_type": "markdown",
   "metadata": {},
   "source": [
    "--------------------------------------------------------------------------------------------------------------------------------------------------------------------------"
   ]
  },
  {
   "attachments": {},
   "cell_type": "markdown",
   "metadata": {},
   "source": [
    "## **TASK 0: Total Volume, Revenue and Top 3 Regions in 2011 and 2012**"
   ]
  },
  {
   "attachments": {},
   "cell_type": "markdown",
   "metadata": {},
   "source": [
    "### **• Total Volume Sold in 2011**\n",
    "\n",
    "The Total Volume Sold in 2011 by PepsiCo was of 126,315,847 units."
   ]
  },
  {
   "cell_type": "code",
   "execution_count": 97,
   "metadata": {},
   "outputs": [
    {
     "name": "stdout",
     "output_type": "stream",
     "text": [
      "+--------------------+\n",
      "|Total Volume in 2011|\n",
      "+--------------------+\n",
      "|           126315847|\n",
      "+--------------------+\n",
      "\n"
     ]
    }
   ],
   "source": [
    "# Define the PEPSICO INC VEND codes.\n",
    "pepsico_vend_codes = [\"28400\", \"30000\", \"71461\"]\n",
    "\n",
    "# Computing the total volume sold in 2011 by PepsiCo.\n",
    "total_volume_pepsico_2011 = sellout_concat_trimmed_df.filter((year(sellout_concat_trimmed_df[\"Calendar week starting on\"]) == 2011)&(col(\"VEND\").isin(pepsico_vend_codes))).agg(sum(\"UNITS\").alias(\"Total Volume in 2011\"))\n",
    "\n",
    "# Show the total volume sold in 2011 by PepsiCo.\n",
    "total_volume_pepsico_2011.show()"
   ]
  },
  {
   "cell_type": "code",
   "execution_count": 98,
   "metadata": {},
   "outputs": [
    {
     "name": "stdout",
     "output_type": "stream",
     "text": [
      "+-------------------------------------------+\n",
      "|Total Volume in 2011 by the Other Companies|\n",
      "+-------------------------------------------+\n",
      "|                                  103842971|\n",
      "+-------------------------------------------+\n",
      "\n"
     ]
    }
   ],
   "source": [
    "# Computing the total volume sold in 2011 by the other companies.\n",
    "total_volume_other_2011 = sellout_concat_trimmed_df.filter((year(sellout_concat_trimmed_df[\"Calendar week starting on\"]) == 2011)&(~col(\"VEND\").isin(pepsico_vend_codes))).agg(sum(\"UNITS\").alias(\"Total Volume in 2011 by the Other Companies\"))\n",
    "\n",
    "# Show the total volume sold in 2011 by the other companies.\n",
    "total_volume_other_2011.show()"
   ]
  },
  {
   "attachments": {},
   "cell_type": "markdown",
   "metadata": {},
   "source": [
    "### **• Total Revenue Generated in 2011**\n",
    "\n",
    "The Total Revenue generated in 2011 by PepsiCo was approximately $ 332,054,362."
   ]
  },
  {
   "cell_type": "code",
   "execution_count": 99,
   "metadata": {},
   "outputs": [
    {
     "name": "stdout",
     "output_type": "stream",
     "text": [
      "+---------------------+\n",
      "|Total Revenue in 2011|\n",
      "+---------------------+\n",
      "|  3.320543621900403E8|\n",
      "+---------------------+\n",
      "\n"
     ]
    }
   ],
   "source": [
    "# Computing the total revenue generated in 2011 by PepsiCo.\n",
    "total_revenue_pepsico_2011 = sellout_concat_trimmed_df.filter((year(sellout_concat_trimmed_df[\"Calendar week starting on\"]) == 2011)&(col(\"VEND\").isin(pepsico_vend_codes))).agg(sum(\"DOLLARS\").alias(\"Total Revenue in 2011\"))\n",
    "\n",
    "# Show the total revenue generated in 2011 by PepsiCo.\n",
    "total_revenue_pepsico_2011.show()"
   ]
  },
  {
   "cell_type": "code",
   "execution_count": 100,
   "metadata": {},
   "outputs": [
    {
     "name": "stdout",
     "output_type": "stream",
     "text": [
      "+--------------------------------------------+\n",
      "|Total Revenue in 2011 by the Other Companies|\n",
      "+--------------------------------------------+\n",
      "|                        2.2948795935035855E8|\n",
      "+--------------------------------------------+\n",
      "\n"
     ]
    }
   ],
   "source": [
    "# Computing the total revenue generated in 2011 by the other companies.\n",
    "total_revenue_others_2011 = sellout_concat_trimmed_df.filter((year(sellout_concat_trimmed_df[\"Calendar week starting on\"]) == 2011)&(~col(\"VEND\").isin(pepsico_vend_codes))).agg(sum(\"DOLLARS\").alias(\"Total Revenue in 2011 by the Other Companies\"))\n",
    "\n",
    "# Show the total revenue generated in 2011 by the other companies.\n",
    "total_revenue_others_2011.show()"
   ]
  },
  {
   "attachments": {},
   "cell_type": "markdown",
   "metadata": {},
   "source": [
    "### **• Top 3 Regions in 2011**\n",
    "\n",
    "The Top 3 Regions in terms of PepsiCo Revenues in 2011 were:\n",
    "1. **Los Angeles** - $26,212,674;\n",
    "2. **New York** - $21,566,451;\n",
    "3. **Chicago** - $14,315,358."
   ]
  },
  {
   "cell_type": "code",
   "execution_count": 101,
   "metadata": {},
   "outputs": [
    {
     "name": "stdout",
     "output_type": "stream",
     "text": [
      "+-----------+--------------------+\n",
      "|Market_Name|       Total Revenue|\n",
      "+-----------+--------------------+\n",
      "|LOS ANGELES|2.6212674080004413E7|\n",
      "|   NEW YORK|2.1566451109998524E7|\n",
      "|    CHICAGO|1.4315358299999902E7|\n",
      "|     BOSTON|1.3723807859999282E7|\n",
      "|PHOENIX, AZ| 1.133937723999909E7|\n",
      "+-----------+--------------------+\n",
      "\n"
     ]
    }
   ],
   "source": [
    "# Identifying the top 3 regions in 2011 for PepsiCo.\n",
    "top_3_regions_pepsico_2011 = sellout_concat_trimmed_df.filter((year(sellout_concat_trimmed_df[\"Calendar week starting on\"]) == 2011)&(col(\"VEND\").isin(pepsico_vend_codes))).groupBy(\"Market_Name\").agg(sum(\"DOLLARS\").alias(\"Total Revenue\")).orderBy(\"Total Revenue\", ascending=False).limit(5)\n",
    "\n",
    "# Show the top 3 regions in terms of revenues in 2011 for PepsiCo.\n",
    "top_3_regions_pepsico_2011.show()"
   ]
  },
  {
   "attachments": {},
   "cell_type": "markdown",
   "metadata": {},
   "source": [
    "### **• Total Volume Sold in 2012**\n",
    "\n",
    "The Total Volume Sold in 2012 by PepsiCo was of 126,998,718 units."
   ]
  },
  {
   "cell_type": "code",
   "execution_count": 102,
   "metadata": {},
   "outputs": [
    {
     "name": "stdout",
     "output_type": "stream",
     "text": [
      "+--------------------+\n",
      "|Total Volume in 2012|\n",
      "+--------------------+\n",
      "|           126998718|\n",
      "+--------------------+\n",
      "\n"
     ]
    }
   ],
   "source": [
    "# Computing the total volume sold in 2012 by PepsiCo.\n",
    "total_volume_pepsico_2012 = sellout_concat_trimmed_df.filter((year(sellout_concat_trimmed_df[\"Calendar week starting on\"]) == 2012)&(col(\"VEND\").isin(pepsico_vend_codes))).agg(sum(\"UNITS\").alias(\"Total Volume in 2012\"))\n",
    "\n",
    "# Show the total volume sold in 2012 by PepsiCo.\n",
    "total_volume_pepsico_2012.show()"
   ]
  },
  {
   "cell_type": "code",
   "execution_count": 103,
   "metadata": {},
   "outputs": [
    {
     "name": "stdout",
     "output_type": "stream",
     "text": [
      "+-------------------------------------------+\n",
      "|Total Volume in 2012 by the Other Companies|\n",
      "+-------------------------------------------+\n",
      "|                                  105995285|\n",
      "+-------------------------------------------+\n",
      "\n"
     ]
    }
   ],
   "source": [
    "# Computing the total volume sold in 2012 by the other companies.\n",
    "total_volume_other_2012 = sellout_concat_trimmed_df.filter((year(sellout_concat_trimmed_df[\"Calendar week starting on\"]) == 2012)&(~col(\"VEND\").isin(pepsico_vend_codes))).agg(sum(\"UNITS\").alias(\"Total Volume in 2012 by the Other Companies\"))\n",
    "\n",
    "# Show the total volume sold in 2012 by the other companies.\n",
    "total_volume_other_2012.show()"
   ]
  },
  {
   "attachments": {},
   "cell_type": "markdown",
   "metadata": {},
   "source": [
    "### **• Total Revenue Generated in 2012**\n",
    "\n",
    "The Total Revenue generated in 2012 by PepsiCo was approximately $344,826,848."
   ]
  },
  {
   "cell_type": "code",
   "execution_count": 104,
   "metadata": {},
   "outputs": [
    {
     "name": "stdout",
     "output_type": "stream",
     "text": [
      "+---------------------+\n",
      "|Total Revenue in 2012|\n",
      "+---------------------+\n",
      "|  3.448268479199427E8|\n",
      "+---------------------+\n",
      "\n"
     ]
    }
   ],
   "source": [
    "# Computing the total revenue generated in 2012 by PepsiCo.\n",
    "total_revenue_pepsico_2012 = sellout_concat_trimmed_df.filter((year(sellout_concat_trimmed_df[\"Calendar week starting on\"]) == 2012)&(col(\"VEND\").isin(pepsico_vend_codes))).agg(sum(\"DOLLARS\").alias(\"Total Revenue in 2012\"))\n",
    "\n",
    "# Show the total revenue generated in 2012 by PepsiCo.\n",
    "total_revenue_pepsico_2012.show()"
   ]
  },
  {
   "cell_type": "code",
   "execution_count": 105,
   "metadata": {},
   "outputs": [
    {
     "name": "stdout",
     "output_type": "stream",
     "text": [
      "+--------------------------------------------+\n",
      "|Total Revenue in 2011 by the Other Companies|\n",
      "+--------------------------------------------+\n",
      "|                         2.412535131802956E8|\n",
      "+--------------------------------------------+\n",
      "\n"
     ]
    }
   ],
   "source": [
    "# Computing the total revenue generated in 2012 by the other companies.\n",
    "total_revenue_others_2012 = sellout_concat_trimmed_df.filter((year(sellout_concat_trimmed_df[\"Calendar week starting on\"]) == 2012)&(~col(\"VEND\").isin(pepsico_vend_codes))).agg(sum(\"DOLLARS\").alias(\"Total Revenue in 2011 by the Other Companies\"))\n",
    "\n",
    "# Show the total revenue generated in 2011 by the other companies.\n",
    "total_revenue_others_2012.show()"
   ]
  },
  {
   "attachments": {},
   "cell_type": "markdown",
   "metadata": {},
   "source": [
    "### **• Top 3 Regions in 2012**\n",
    "\n",
    "The Top 3 Regions in terms of PepsiCo Revenues in 2012 were:\n",
    "1. **Los Angeles** - $27,206,073;\n",
    "2. **New York** - $22,033,104;\n",
    "3. **Chicago** - $14,271,019;"
   ]
  },
  {
   "cell_type": "code",
   "execution_count": 106,
   "metadata": {},
   "outputs": [
    {
     "name": "stdout",
     "output_type": "stream",
     "text": [
      "+-----------+--------------------+\n",
      "|Market_Name|       Total Revenue|\n",
      "+-----------+--------------------+\n",
      "|LOS ANGELES|2.7206073270004123E7|\n",
      "|   NEW YORK| 2.203310397999847E7|\n",
      "|    CHICAGO|1.4271018740000326E7|\n",
      "|     BOSTON|1.3426455239999227E7|\n",
      "|PHOENIX, AZ|1.1554964549999136E7|\n",
      "+-----------+--------------------+\n",
      "\n"
     ]
    }
   ],
   "source": [
    "# Identifying the top 3 regions in 2012 for PepsiCo.\n",
    "top_3_regions_pepsico_2012 = sellout_concat_trimmed_df.filter((year(sellout_concat_trimmed_df[\"Calendar week starting on\"]) == 2012)&(col(\"VEND\").isin(pepsico_vend_codes))).groupBy(\"Market_Name\").agg(sum(\"DOLLARS\").alias(\"Total Revenue\")).orderBy(\"Total Revenue\", ascending=False).limit(5)\n",
    "\n",
    "# Show the top 3 regions in terms of revenues in 2012 for PepsiCo.\n",
    "top_3_regions_pepsico_2012.show()"
   ]
  },
  {
   "attachments": {},
   "cell_type": "markdown",
   "metadata": {},
   "source": [
    "--------------------------------------------------------------------------------------------------------------------------------------------------------------------------"
   ]
  },
  {
   "attachments": {},
   "cell_type": "markdown",
   "metadata": {},
   "source": [
    "## **TASK 1: PepsiCo Market Share in 2011 and 2012**"
   ]
  },
  {
   "attachments": {},
   "cell_type": "markdown",
   "metadata": {},
   "source": [
    "### **• PepsiCo Market Share in 2011**\n",
    "\n",
    "PepsiCo's market share was 59.13% in 2011."
   ]
  },
  {
   "cell_type": "code",
   "execution_count": 107,
   "metadata": {},
   "outputs": [
    {
     "name": "stdout",
     "output_type": "stream",
     "text": [
      "PepsiCo's Market Share in 2011: 59.13%\n"
     ]
    }
   ],
   "source": [
    "# Computing the total market revenue generated in 2011.\n",
    "total_revenue_market_2011 = sellout_concat_trimmed_df.filter(year(sellout_concat_trimmed_df[\"Calendar week starting on\"]) == 2011).agg(sum(\"DOLLARS\").alias(\"Total Revenue in 2011\"))\n",
    "\n",
    "# Computing PepsiCo's market share in 2011 = (PepsiCo's Revenues in 2011 / Total Market Revenues in 2011)\n",
    "market_share_pepsico_2011 = total_revenue_pepsico_2011.collect()[0][\"Total Revenue in 2011\"] / total_revenue_market_2011.collect()[0][\"Total Revenue in 2011\"]\n",
    "\n",
    "# Printing PepsiCo's market share in 2011.\n",
    "print(\"PepsiCo's Market Share in 2011: {:.2%}\".format(market_share_pepsico_2011))"
   ]
  },
  {
   "attachments": {},
   "cell_type": "markdown",
   "metadata": {},
   "source": [
    "### **• PepsiCo Market Share in 2012**\n",
    "\n",
    "PepsiCo's market share was 58.84% in 2012."
   ]
  },
  {
   "cell_type": "code",
   "execution_count": 108,
   "metadata": {},
   "outputs": [
    {
     "name": "stdout",
     "output_type": "stream",
     "text": [
      "PepsiCo's Market Share in 2012: 58.84%\n"
     ]
    }
   ],
   "source": [
    "# Computing the total market revenue generated in 2012.\n",
    "total_revenue_market_2012 = sellout_concat_trimmed_df.filter(year(sellout_concat_trimmed_df[\"Calendar week starting on\"]) == 2012).agg(sum(\"DOLLARS\").alias(\"Total Revenue in 2012\"))\n",
    "\n",
    "# Computing PepsiCo's market share in 2012 = (PepsiCo's Revenues in 2012 / Total Market Revenues in 2012).\n",
    "market_share_pepsico_2012 = total_revenue_pepsico_2012.collect()[0][\"Total Revenue in 2012\"] / total_revenue_market_2012.collect()[0][\"Total Revenue in 2012\"]\n",
    "\n",
    "# Printing PepsiCo's market share in 2012.\n",
    "print(\"PepsiCo's Market Share in 2012: {:.2%}\".format(market_share_pepsico_2012))"
   ]
  },
  {
   "attachments": {},
   "cell_type": "markdown",
   "metadata": {},
   "source": [
    "--------------------------------------------------------------------------------------------------------------------------------------------------------------------------"
   ]
  },
  {
   "attachments": {},
   "cell_type": "markdown",
   "metadata": {},
   "source": [
    "## **TASK 2: Top Customers (New York Retailers) in 2011 and 2012**"
   ]
  },
  {
   "attachments": {},
   "cell_type": "markdown",
   "metadata": {},
   "source": [
    "### **• Top PepsiCo New York Customers in 2011**\n",
    "\n",
    "The top PepsiCo New York Customers in 2011 were:\n",
    "1. **Chain 98** - $4,815,087;\n",
    "2. **Chain 112** - $4,725,130;\n",
    "3. **Chain 5** - $4,574,273;\n",
    "4. **Chain 73** - $2,979,815;\n",
    "5. **Chain 110** - $1,111,449."
   ]
  },
  {
   "cell_type": "code",
   "execution_count": 109,
   "metadata": {},
   "outputs": [
    {
     "name": "stdout",
     "output_type": "stream",
     "text": [
      "+--------+------------------+----------------+\n",
      "|MskdName|     Total Revenue|Total Units Sold|\n",
      "+--------+------------------+----------------+\n",
      "| Chain98| 4815087.619999763|         1535050|\n",
      "|Chain112| 4725129.679999712|         1713067|\n",
      "|  Chain5| 4574273.169999719|         1665812|\n",
      "| Chain73| 2979815.079999773|         1126291|\n",
      "|Chain110|1111448.5100000002|          487371|\n",
      "+--------+------------------+----------------+\n",
      "\n"
     ]
    }
   ],
   "source": [
    "# Identifying the top 5 PepsiCo New York customers in 2011.\n",
    "top_5_retailers_ny_2011_rev_units = sellout_concat_trimmed_df.filter((year(sellout_concat_trimmed_df[\"Calendar week starting on\"]) == 2011) & (col(\"VEND\").isin(pepsico_vend_codes)) & (col(\"Market_Name\").like(\"NEW YORK\"))).groupBy(\"MskdName\").agg(sum(\"DOLLARS\").alias(\"Total Revenue\"), sum(\"UNITS\").alias(\"Total Units Sold\")).orderBy(\"Total Revenue\", ascending=False).limit(5)\n",
    "\n",
    "# Show the top 5 PepsiCo New York customers in 2011 with their total revenue and total units sold.\n",
    "top_5_retailers_ny_2011_rev_units.show()"
   ]
  },
  {
   "attachments": {},
   "cell_type": "markdown",
   "metadata": {},
   "source": [
    "### **• Top PepsiCo New York Customers in 2012**\n",
    "\n",
    "The top PepsiCo New York Customers in 2012 were:\n",
    "1. **Chain 112** - $4,835,976;\n",
    "2. **Chain 98** - $4,791,504;\n",
    "3. **Chain 5** - $4,757,187;\n",
    "4. **Chain 73** - $3,017,525;\n",
    "5. **Chain 110** - $1,141,277."
   ]
  },
  {
   "cell_type": "code",
   "execution_count": 110,
   "metadata": {},
   "outputs": [
    {
     "name": "stdout",
     "output_type": "stream",
     "text": [
      "+--------+------------------+----------------+\n",
      "|MskdName|     Total Revenue|Total Units Sold|\n",
      "+--------+------------------+----------------+\n",
      "|Chain112| 4835975.539999782|         1710526|\n",
      "| Chain98|4791504.0399998175|         1457287|\n",
      "|  Chain5| 4757187.459999753|         1724960|\n",
      "| Chain73|3017525.3799998136|         1088952|\n",
      "|Chain110|1141277.0799999998|          431213|\n",
      "+--------+------------------+----------------+\n",
      "\n"
     ]
    }
   ],
   "source": [
    "# Identifying the top 5 PepsiCo New York customers in 2012.\n",
    "top_5_retailers_ny_2012_rev_units = sellout_concat_trimmed_df.filter((year(sellout_concat_trimmed_df[\"Calendar week starting on\"]) == 2012) & (col(\"VEND\").isin(pepsico_vend_codes)) & (col(\"Market_Name\").like(\"NEW YORK\"))).groupBy(\"MskdName\").agg(sum(\"DOLLARS\").alias(\"Total Revenue\"), sum(\"UNITS\").alias(\"Total Units Sold\")).orderBy(\"Total Revenue\", ascending=False).limit(5)\n",
    "\n",
    "# Show the top 5 PepsiCo New York customers in 2012 with their total revenue and total units sold.\n",
    "top_5_retailers_ny_2012_rev_units.show()"
   ]
  },
  {
   "attachments": {},
   "cell_type": "markdown",
   "metadata": {},
   "source": [
    "--------------------------------------------------------------------------------------------------------------------------------------------------------------------------"
   ]
  },
  {
   "attachments": {},
   "cell_type": "markdown",
   "metadata": {},
   "source": [
    "## **TASK 3: Top Products (PepsiCo and Competitors) Sold in New York in 2011 and 2012**"
   ]
  },
  {
   "attachments": {},
   "cell_type": "markdown",
   "metadata": {},
   "source": [
    "### **• Top Products (PepsiCo and Competitors) Sold in New York in 2011**\n",
    "\n",
    "The Top 5 sold products in New York in 2011 were:\n",
    "\n",
    "1. **UPC: 00-03-28400-03345** - Generated around $1,022,581;\n",
    "2. **UPC: 00-01-28400-03875** - Generated around $1,015,517;\n",
    "3. **UPC: 00-02-28400-06408** - Generated around $975,795;\n",
    "4. **UPC: 00-02-28400-06399** - Generated around $830,449;\n",
    "5. **UPC: 00-01-28400-03346** - Generated around $608,710."
   ]
  },
  {
   "cell_type": "code",
   "execution_count": 111,
   "metadata": {},
   "outputs": [
    {
     "name": "stdout",
     "output_type": "stream",
     "text": [
      "+-----------------+------------------+\n",
      "|              UPC|     Total Revenue|\n",
      "+-----------------+------------------+\n",
      "|00-03-28400-03345|1022580.7299999997|\n",
      "|00-01-28400-03875|1015516.7399999999|\n",
      "|00-02-28400-06408| 975795.2800000001|\n",
      "|00-02-28400-06399| 830449.3699999999|\n",
      "|00-01-28400-03346| 608710.1100000002|\n",
      "+-----------------+------------------+\n",
      "\n"
     ]
    }
   ],
   "source": [
    "# Identifying the top 5 products sold in New York in 2011.\n",
    "top_5_products_ny_2011 = sellout_concat_trimmed_df.filter((year(sellout_concat_trimmed_df[\"Calendar week starting on\"]) == 2011)&(col(\"Market_Name\").like(\"NEW YORK\"))).groupBy(\"UPC\").agg(sum(\"DOLLARS\").alias(\"Total Revenue\")).orderBy(\"Total Revenue\", ascending=False).limit(5)\n",
    "\n",
    "# Show the top 5 products sold in New York in 2011.\n",
    "top_5_products_ny_2011.show()"
   ]
  },
  {
   "attachments": {},
   "cell_type": "markdown",
   "metadata": {},
   "source": [
    "### **• Top Products (PepsiCo and Competitors) Sold in New York in 2012**\n",
    "\n",
    "The Top 5 sold products in New York in 2012 were:\n",
    "\n",
    "1. **UPC: 00-01-28400-03875** - Generated around $1,399,523;\n",
    "2. **UPC: 00-03-28400-03345** - Generated around $1,382,586;\n",
    "3. **UPC: 00-03-28400-06408** - Generated around $1,112,857;\n",
    "4. **UPC: 00-01-28400-03854** - Generated around $753,409;\n",
    "5. **UPC: 00-02-28400-06399** - Generated around $741,246."
   ]
  },
  {
   "cell_type": "code",
   "execution_count": 112,
   "metadata": {},
   "outputs": [
    {
     "name": "stdout",
     "output_type": "stream",
     "text": [
      "+-----------------+------------------+\n",
      "|              UPC|     Total Revenue|\n",
      "+-----------------+------------------+\n",
      "|00-01-28400-03875|1399523.4900000002|\n",
      "|00-03-28400-03345|1382585.5200000003|\n",
      "|00-03-28400-06408|1112857.1400000001|\n",
      "|00-01-28400-03854| 753409.0200000004|\n",
      "|00-02-28400-06399| 741246.2600000001|\n",
      "+-----------------+------------------+\n",
      "\n"
     ]
    }
   ],
   "source": [
    "# Identifying the top 5 Products sold in New York in 2012.\n",
    "top_5_products_ny_2012 = sellout_concat_trimmed_df.filter((year(sellout_concat_trimmed_df[\"Calendar week starting on\"]) == 2012)&(col(\"Market_Name\").like(\"NEW YORK\"))).groupBy(\"UPC\").agg(sum(\"DOLLARS\").alias(\"Total Revenue\")).orderBy(\"Total Revenue\", ascending=False).limit(5)\n",
    "\n",
    "# Show the top 5 Products sold in New York in 2012.\n",
    "top_5_products_ny_2012.show()"
   ]
  },
  {
   "attachments": {},
   "cell_type": "markdown",
   "metadata": {},
   "source": [
    "--------------------------------------------------------------------------------------------------------------------------------------------------------------------------"
   ]
  },
  {
   "attachments": {},
   "cell_type": "markdown",
   "metadata": {},
   "source": [
    "## **TASK 4: Promotional Activity of the Top 3 Selling Products in New York in 2011 and 2012**"
   ]
  },
  {
   "attachments": {},
   "cell_type": "markdown",
   "metadata": {},
   "source": [
    "### **Method 1: Calculation of Weeks in Promotion for Top-Selling Items (Over all Year Weeks)**\n",
    "\n",
    "This method involves computing the percentage across all 52 weeks in a year, accounting for both the weeks in which the product was sold and those in which it may not have been sold."
   ]
  },
  {
   "attachments": {},
   "cell_type": "markdown",
   "metadata": {},
   "source": [
    "### **• Promotional Activity of the Top 3 Selling Products in New York in 2011**\n",
    "\n",
    "The Promotional Activity of the Top 3 selling products in New York in 2011 was:\n",
    "\n",
    "1. **UPC 00-03-28400-03345** - This product was in promotion 73.08% of the weeks in 2011.\n",
    "2. **UPC 00-01-28400-03875** - This product was in promotion 80.77% of the weeks in 2011.\n",
    "3. **UPC 00-02-28400-06408** - This product was in promotion 90.38% of the weeks in 2011."
   ]
  },
  {
   "cell_type": "code",
   "execution_count": 113,
   "metadata": {},
   "outputs": [],
   "source": [
    "# Define a function to compute the % of weeks in promotion for a top selling item.\n",
    "def compute_weeks_in_promotion(df, upcs, target_year):\n",
    "    \n",
    "    for upc in upcs:\n",
    "        # Filter the DataFrame for the year 2011 and the specified item in promotion.\n",
    "        upc_weeks_count = df.filter(\n",
    "            (year(col(\"Calendar week starting on\")) == target_year) &\n",
    "            (col(\"PR\") > 0.1) &\n",
    "            (col(\"UPC\") == upc)\n",
    "        ).agg(countDistinct(\"Calendar week starting on\").alias(\"Weeks in Promotion\")).collect()[0][\"Weeks in Promotion\"]\n",
    "\n",
    "        # Filter the DataFrame for the year 2011.\n",
    "        total_weeks_count = df.filter(\n",
    "            year(col(\"Calendar week starting on\")) == target_year\n",
    "        ).agg(countDistinct(\"Calendar week starting on\").alias(\"Total Weeks\")).collect()[0][\"Total Weeks\"]\n",
    "\n",
    "        # Compute the percentage of weeks the specified item was in promotion in 2011.\n",
    "        if total_weeks_count > 0:\n",
    "            upc_weeks_percentage = (upc_weeks_count / total_weeks_count) * 100\n",
    "        else:\n",
    "            upc_weeks_percentage = 0\n",
    "\n",
    "        # Print the item weeks percentage.\n",
    "        print(\"Percentage of weeks UPC {} was in promotion in {}: {:.2f}% ({}/{} weeks)\".format(upc, target_year, upc_weeks_percentage, upc_weeks_count, total_weeks_count))"
   ]
  },
  {
   "cell_type": "code",
   "execution_count": 114,
   "metadata": {},
   "outputs": [
    {
     "name": "stdout",
     "output_type": "stream",
     "text": [
      "Percentage of weeks UPC 00-03-28400-03345 was in promotion in 2011: 73.08% (38/52 weeks)\n",
      "Percentage of weeks UPC 00-01-28400-03875 was in promotion in 2011: 80.77% (42/52 weeks)\n",
      "Percentage of weeks UPC 00-02-28400-06408 was in promotion in 2011: 90.38% (47/52 weeks)\n"
     ]
    }
   ],
   "source": [
    "# Declare the list of top selling items in 2011.\n",
    "upcs_list_2011 = [\"00-03-28400-03345\", \"00-01-28400-03875\", \"00-02-28400-06408\"]\n",
    "\n",
    "# Declare the year we want to check.\n",
    "target_year = 2011\n",
    "\n",
    "# Call the function to compute and print the % of weeks in promotion for the top 3 selling items in 2011.\n",
    "compute_weeks_in_promotion(sellout_concat_trimmed_df, upcs_list_2011, target_year)"
   ]
  },
  {
   "cell_type": "code",
   "execution_count": 197,
   "metadata": {},
   "outputs": [],
   "source": [
    "# # Declare the list of top selling items in 2011.\n",
    "# upcs_list_2011 = [\"00-03-28400-03345\", \"00-01-28400-03875\", \"00-02-28400-06408\",\"00-02-28400-06399\", \"00-01-28400-03346\",\"00-01-28400-03854\"]\n",
    "\n",
    "# # Declare the year we want to check.\n",
    "# target_year = 2011\n",
    "\n",
    "# # Call the function to compute and print the % of weeks in promotion for the top 5 selling items in 2011.\n",
    "# compute_weeks_in_promotion(sellout_concat_trimmed_df, upcs_list_2011, target_year)"
   ]
  },
  {
   "attachments": {},
   "cell_type": "markdown",
   "metadata": {},
   "source": [
    "### **• Promotional Activity of the Top 3 Selling Products in New York in 2012**\n",
    "\n",
    "The Promotional Activity of the Top 3 selling products in New York in 2012 was:\n",
    "\n",
    "1. **UPC 00-01-28400-03875** - This product was in promotion 100.00% of the weeks in 2012.\n",
    "2. **UPC 00-03-28400-03345** - This product was in promotion 100.00% of the weeks in 2012.\n",
    "3. **UPC 00-03-28400-06408** - This product was in promotion 100.00% of the weeks in 2012."
   ]
  },
  {
   "cell_type": "code",
   "execution_count": 115,
   "metadata": {},
   "outputs": [
    {
     "name": "stdout",
     "output_type": "stream",
     "text": [
      "Percentage of weeks UPC 00-01-28400-03875 was in promotion in 2012: 100.00% (52/52 weeks)\n",
      "Percentage of weeks UPC 00-03-28400-03345 was in promotion in 2012: 100.00% (52/52 weeks)\n",
      "Percentage of weeks UPC 00-03-28400-06408 was in promotion in 2012: 100.00% (52/52 weeks)\n"
     ]
    }
   ],
   "source": [
    "# Declare the list of top selling items in 2012.\n",
    "upcs_list_2012 = [\"00-01-28400-03875\", \"00-03-28400-03345\", \"00-03-28400-06408\"]\n",
    "\n",
    "# Declare the year we want to check.\n",
    "target_year = 2012\n",
    "\n",
    "# Call the function to compute and print the % of weeks in promotion for the top 3 selling items in 2012.\n",
    "compute_weeks_in_promotion(sellout_concat_trimmed_df, upcs_list_2012, target_year)"
   ]
  },
  {
   "cell_type": "code",
   "execution_count": 199,
   "metadata": {},
   "outputs": [],
   "source": [
    "# # Declare the list of top selling items in 2012.\n",
    "# upcs_list_2012 = [\"00-01-28400-03875\", \"00-03-28400-03345\", \"00-03-28400-06408\",\"00-01-28400-03854\",\"00-02-28400-06399\", \"00-01-28400-03346\"]\n",
    "\n",
    "# # Declare the year we want to check.\n",
    "# target_year = 2012\n",
    "\n",
    "# # Call the function to compute and print the % of weeks in promotion for the top 3 selling items in 2012.\n",
    "# compute_weeks_in_promotion(sellout_concat_trimmed_df, upcs_list_2012, target_year)"
   ]
  },
  {
   "attachments": {},
   "cell_type": "markdown",
   "metadata": {},
   "source": [
    "### **Method 2: Mean Price Reduction Flag for Top-Selling Items**\n",
    "\n",
    "This method is less granular than the previous one and it does not account for time but rather an high-level estimation of the average PR column values."
   ]
  },
  {
   "attachments": {},
   "cell_type": "markdown",
   "metadata": {},
   "source": [
    "### **• Promotional Activity of the Top 3 Selling Products in New York in 2011**\n",
    "\n",
    "The Promotional Activity of the Top 3 selling products in New York in 2011 was:\n",
    "\n",
    "1. **UPC 00-03-28400-03345** - This product was in promotion 58.50% of the time in 2011.\n",
    "2. **UPC 00-01-28400-03875** - This product was in promotion 52.84% of the time in 2011.\n",
    "3. **UPC 00-02-28400-06408** - This product was in promotion 48.72% of the time in 2011."
   ]
  },
  {
   "cell_type": "code",
   "execution_count": 116,
   "metadata": {},
   "outputs": [],
   "source": [
    "# Define a function to compute the % of time a top selling item was in promotion.\n",
    "def calculate_mean_promo_flag(df, upcs, target_year):\n",
    "    for upc in upcs:\n",
    "        # Filter the DataFrame for the specified item and target year.\n",
    "        filtered_df = df.filter((df[\"UPC\"] == upc) & (F.year(df[\"Calendar week starting on\"]) == target_year))\n",
    "        \n",
    "        # Calculate the average promotion flag for the specified item.\n",
    "        upc_promo_avg = filtered_df.agg(F.avg(\"PR\")).collect()[0][0]\n",
    "        \n",
    "        # Compute the percentage of time the specified item was in promotion.\n",
    "        upc_promo_percentage = upc_promo_avg * 100\n",
    "        \n",
    "        # Print the item promotion percentage.\n",
    "        print(\"UPC {} was in promotion {:.2f}% of the time in {}.\".format(upc, upc_promo_percentage, target_year))"
   ]
  },
  {
   "cell_type": "code",
   "execution_count": 117,
   "metadata": {},
   "outputs": [
    {
     "name": "stdout",
     "output_type": "stream",
     "text": [
      "UPC 00-03-28400-03345 was in promotion 58.50% of the time in 2011.\n",
      "UPC 00-01-28400-03875 was in promotion 52.84% of the time in 2011.\n",
      "UPC 00-02-28400-06408 was in promotion 48.72% of the time in 2011.\n"
     ]
    }
   ],
   "source": [
    "# Declare the list of top selling items in 2011.\n",
    "upcs_list_2011 = [\"00-03-28400-03345\", \"00-01-28400-03875\", \"00-02-28400-06408\"]\n",
    "\n",
    "# Declare the year we want to check.\n",
    "target_year = 2011\n",
    "\n",
    "# Call the function to compute and print the % of time in promotion for the top 3 selling items in 2011.\n",
    "calculate_mean_promo_flag(sellout_concat_trimmed_df, upcs_list_2011, target_year)"
   ]
  },
  {
   "attachments": {},
   "cell_type": "markdown",
   "metadata": {},
   "source": [
    "### **• Promotional Activity of the Top 3 Selling Products in New York in 2012**\n",
    "\n",
    "The Promotional Activity of the Top 3 selling products in New York in 2012 was:\n",
    "\n",
    "1. **UPC 00-01-28400-03875** - This product was in promotion 100.00% of the weeks in 2012.\n",
    "2. **UPC 00-03-28400-03345** - This product was in promotion 100.00% of the weeks in 2012.\n",
    "3. **UPC 00-03-28400-06408** - This product was in promotion 100.00% of the weeks in 2012."
   ]
  },
  {
   "cell_type": "code",
   "execution_count": 119,
   "metadata": {},
   "outputs": [
    {
     "name": "stdout",
     "output_type": "stream",
     "text": [
      "UPC 00-01-28400-03875 was in promotion 59.64% of the time in 2012.\n",
      "UPC 00-03-28400-03345 was in promotion 62.44% of the time in 2012.\n",
      "UPC 00-03-28400-06408 was in promotion 46.15% of the time in 2012.\n"
     ]
    }
   ],
   "source": [
    "# Declare the list of top selling items in 2012.\n",
    "upcs_list_2012 = [\"00-01-28400-03875\", \"00-03-28400-03345\", \"00-03-28400-06408\"]\n",
    "\n",
    "# Declare the year we want to check.\n",
    "target_year = 2012\n",
    "\n",
    "# Call the function to compute and print the % time in promotion for the top 3 selling items in 2012.\n",
    "calculate_mean_promo_flag(sellout_concat_trimmed_df, upcs_list_2012, target_year)"
   ]
  },
  {
   "cell_type": "code",
   "execution_count": 120,
   "metadata": {},
   "outputs": [
    {
     "name": "stdout",
     "output_type": "stream",
     "text": [
      "+---+\n",
      "| PR|\n",
      "+---+\n",
      "|  1|\n",
      "|  0|\n",
      "+---+\n",
      "\n"
     ]
    }
   ],
   "source": [
    "distinct_pr_values = sellout_concat_trimmed_df.filter((col(\"UPC\") == \"00-03-28400-06408\")&(year(sellout_concat_trimmed_df[\"Calendar week starting on\"]) == 2012)).select(\"PR\").distinct()\n",
    "\n",
    "# Show the distinct values of PR column for UPC = 00-03-28400-06408\n",
    "distinct_pr_values.show()"
   ]
  },
  {
   "attachments": {},
   "cell_type": "markdown",
   "metadata": {},
   "source": [
    "### **Method 3: Calculation of % of Weeks in Promotion for Top-Selling Items over the Total Number Weeks in which these were Sold**\n",
    "\n",
    "This computation method assumes that if a product was sold on promotion (PR > 0.1) at least once during a given week, then the entire week can be considered as a promotional week for that product. Although there would possibly be other methods to compute Promotional Activity, this one besides being a common practice among the sector players it is based on the premise that because promotions typically lead to substantial increases in sales for the rest of the week, sometimes even after promotions end."
   ]
  },
  {
   "attachments": {},
   "cell_type": "markdown",
   "metadata": {},
   "source": [
    "### **• Promotional Activity of the Top 3 Selling Products in New York in 2011**\n",
    "\n",
    "The Promotional Activity of the Top 3 selling products in New York in 2011 was:\n",
    "\n",
    "1. **UPC 00-03-28400-03345** - This product was in promotion 97.44% of the weeks in 2011.\n",
    "2. **UPC 00-01-28400-03875** - This product was in promotion 100.00% of the weeks in 2011.\n",
    "3. **UPC 00-02-28400-06408** - This product was in promotion 100.00% of the weeks in 2011."
   ]
  },
  {
   "cell_type": "code",
   "execution_count": 121,
   "metadata": {},
   "outputs": [],
   "source": [
    "# Defining a function to compute the % of weeks in promotion for a top selling item.\n",
    "def compute_weeks_in_promotion(df, upcs, target_year):\n",
    "    \n",
    "    for upc in upcs:\n",
    "        # Filtering the DataFrame for the target year and the specified item.\n",
    "        df_upc = df.filter(\n",
    "            (year(col(\"Calendar week starting on\")) == target_year) &\n",
    "            (col(\"UPC\") == upc)\n",
    "        )\n",
    "        \n",
    "        # Creating a new column 'promo_week' that is 1 if PR==1 and null otherwise\n",
    "        df_upc = df_upc.withColumn(\"promo_week\", max(col(\"PR\")).over(Window.partitionBy(\"Calendar week starting on\")))\n",
    "\n",
    "        # Computing weeks in promotion.\n",
    "        upc_weeks_count = df_upc.filter(\n",
    "            col(\"promo_week\") == 1\n",
    "        ).agg(countDistinct(\"Calendar week starting on\").alias(\"Weeks in Promotion\")).collect()[0][\"Weeks in Promotion\"]\n",
    "\n",
    "        # Computing total weeks.\n",
    "        total_weeks_count = df_upc.agg(countDistinct(\"Calendar week starting on\").alias(\"Total Weeks\")).collect()[0][\"Total Weeks\"]\n",
    "\n",
    "        # Computing the percentage of weeks the specified item was in promotion in the target year.\n",
    "        if total_weeks_count > 0:\n",
    "            upc_weeks_percentage = (upc_weeks_count / total_weeks_count) * 100\n",
    "        else:\n",
    "            upc_weeks_percentage = 0\n",
    "\n",
    "        # Printing the item weeks percentage.\n",
    "        print(\"Percentage of weeks UPC {} was in promotion in {}: {:.2f}% ({}/{} weeks)\".format(upc, target_year, upc_weeks_percentage, upc_weeks_count, total_weeks_count))"
   ]
  },
  {
   "cell_type": "code",
   "execution_count": 122,
   "metadata": {},
   "outputs": [
    {
     "name": "stdout",
     "output_type": "stream",
     "text": [
      "Percentage of weeks UPC 00-03-28400-03345 was in promotion in 2011: 97.44% (38/39 weeks)\n",
      "Percentage of weeks UPC 00-01-28400-03875 was in promotion in 2011: 100.00% (42/42 weeks)\n",
      "Percentage of weeks UPC 00-02-28400-06408 was in promotion in 2011: 100.00% (47/47 weeks)\n",
      "Percentage of weeks UPC 00-02-28400-06399 was in promotion in 2011: 100.00% (52/52 weeks)\n",
      "Percentage of weeks UPC 00-01-28400-03346 was in promotion in 2011: 100.00% (47/47 weeks)\n",
      "Percentage of weeks UPC 00-01-28400-03854 was in promotion in 2011: 100.00% (41/41 weeks)\n"
     ]
    }
   ],
   "source": [
    "# Declaring the list of top selling items in 2011.\n",
    "upcs_list_2011 = [\"00-03-28400-03345\", \"00-01-28400-03875\", \"00-02-28400-06408\",\"00-02-28400-06399\", \"00-01-28400-03346\",\"00-01-28400-03854\"]\n",
    "\n",
    "# Declaring the year we want to check.\n",
    "target_year = 2011\n",
    "\n",
    "# Calling the function to compute and print the % of weeks in promotion for the top 3 selling items in 2011.\n",
    "compute_weeks_in_promotion(sellout_concat_trimmed_df, upcs_list_2011, target_year)"
   ]
  },
  {
   "attachments": {},
   "cell_type": "markdown",
   "metadata": {},
   "source": [
    "### **• Promotional Activity of the Top 3 Selling Products in New York in 2012**\n",
    "\n",
    "The Promotional Activity of the Top 3 selling products in New York in 2012 was:\n",
    "\n",
    "1. **UPC 00-01-28400-03875** - This product was in promotion 100.00% of the weeks in 2012.\n",
    "2. **UPC 00-03-28400-03345** - This product was in promotion 100.00% of the weeks in 2012.\n",
    "3. **UPC 00-03-28400-06408** - This product was in promotion 100.00% of the weeks in 2012."
   ]
  },
  {
   "cell_type": "code",
   "execution_count": 123,
   "metadata": {},
   "outputs": [
    {
     "name": "stdout",
     "output_type": "stream",
     "text": [
      "Percentage of weeks UPC 00-01-28400-03875 was in promotion in 2012: 100.00% (52/52 weeks)\n",
      "Percentage of weeks UPC 00-03-28400-03345 was in promotion in 2012: 100.00% (52/52 weeks)\n",
      "Percentage of weeks UPC 00-03-28400-06408 was in promotion in 2012: 100.00% (52/52 weeks)\n",
      "Percentage of weeks UPC 00-01-28400-03854 was in promotion in 2012: 100.00% (52/52 weeks)\n",
      "Percentage of weeks UPC 00-02-28400-06399 was in promotion in 2012: 100.00% (52/52 weeks)\n",
      "Percentage of weeks UPC 00-01-28400-03346 was in promotion in 2012: 100.00% (52/52 weeks)\n"
     ]
    }
   ],
   "source": [
    "# Declaring the list of top selling items in 2012.\n",
    "upcs_list_2012 =  [\"00-01-28400-03875\", \"00-03-28400-03345\", \"00-03-28400-06408\",\"00-01-28400-03854\",\"00-02-28400-06399\", \"00-01-28400-03346\"]\n",
    "\n",
    "# Declaring the year we want to check.\n",
    "target_year = 2012\n",
    "\n",
    "# Calling the function to compute and print the % of weeks in promotion for the top 3 selling items in 2012.\n",
    "compute_weeks_in_promotion(sellout_concat_trimmed_df, upcs_list_2012, target_year)"
   ]
  },
  {
   "attachments": {},
   "cell_type": "markdown",
   "metadata": {},
   "source": [
    "--------------------------------------------------------------------------------------------------------------------------------------------------------------------------"
   ]
  },
  {
   "attachments": {},
   "cell_type": "markdown",
   "metadata": {},
   "source": [
    "## **TASK 5: Volume Sold on Deal (VSoD) for PepsiCo products in New York in 2011 and 2012**"
   ]
  },
  {
   "attachments": {},
   "cell_type": "markdown",
   "metadata": {},
   "source": [
    "### **• Volume Sold on Deal (VSoD) for PepsiCo Products Sold in New York in 2011**\n",
    "\n",
    "The Volume Sold on Deal (VSoD) for PepsiCo products in 2011 in New York was of 52.01%."
   ]
  },
  {
   "cell_type": "code",
   "execution_count": 124,
   "metadata": {},
   "outputs": [
    {
     "name": "stdout",
     "output_type": "stream",
     "text": [
      "In 2011, in New York, 3956230 units of PepsiCo products were sold on deal.\n"
     ]
    }
   ],
   "source": [
    "# Filter the dataset to get the number of PepsiCo product units that were sold on deal in 2011 in New York.\n",
    "units_sold_on_deal_2011 = sellout_concat_trimmed_df.filter((year(sellout_concat_trimmed_df[\"Calendar week starting on\"]) == 2011) & (col(\"Market_Name\").like(\"NEW YORK\")) & (col(\"PR\") > 0.1) &\n",
    "    (col(\"VEND\").isin(pepsico_vend_codes))).agg(sum(\"Units\").alias(\"Units Sold on Deal\")).collect()[0][\"Units Sold on Deal\"]\n",
    "\n",
    "# Show the number of PepsiCo product units that were sold on deal in 2011 in New York.\n",
    "print(\"In 2011, in New York, {} units of PepsiCo products were sold on deal.\".format(units_sold_on_deal_2011))"
   ]
  },
  {
   "cell_type": "code",
   "execution_count": 125,
   "metadata": {},
   "outputs": [
    {
     "name": "stdout",
     "output_type": "stream",
     "text": [
      "In 2011, in New York, 7606676 units of PepsiCo products were sold.\n"
     ]
    }
   ],
   "source": [
    "# Filter the dataset to get the total number of PepsiCo product units sold in New York in 2011.\n",
    "total_units_sold_2011 = sellout_concat_trimmed_df.filter((year(sellout_concat_trimmed_df[\"Calendar week starting on\"]) == 2011) & (col(\"Market_Name\").like(\"NEW YORK\")) &\n",
    "    (col(\"VEND\").isin(pepsico_vend_codes))).agg(sum(\"Units\").alias(\"Total Units Sold\")).collect()[0][\"Total Units Sold\"]\n",
    "\n",
    "# Show the total number of PepsiCo product units sold in New York.\n",
    "print(\"In 2011, in New York, {} units of PepsiCo products were sold.\".format(total_units_sold_2011))"
   ]
  },
  {
   "cell_type": "code",
   "execution_count": 126,
   "metadata": {},
   "outputs": [
    {
     "name": "stdout",
     "output_type": "stream",
     "text": [
      "Volume Sold on Deal (VSoD) for PepsiCo products in 2011 in New York: 52.01%\n"
     ]
    }
   ],
   "source": [
    "# Calculate the Volume Sold on Deal (VSoD) for PepsiCo products in 2011 in New York.\n",
    "vsod_2011 = (units_sold_on_deal_2011 / total_units_sold_2011) * 100\n",
    "\n",
    "# Print the Volume Sold on Deal (VSoD) for PepsiCo products in 2011 in New York.\n",
    "print(\"Volume Sold on Deal (VSoD) for PepsiCo products in 2011 in New York: {:.2f}%\".format(vsod_2011))"
   ]
  },
  {
   "attachments": {},
   "cell_type": "markdown",
   "metadata": {},
   "source": [
    "### **• Volume Sold on Deal (VSoD) for PepsiCo Products Sold in New York in 2012**\n",
    "\n",
    "The Volume Sold on Deal (VSoD) for PepsiCo products in 2012 in New York was of 56.53%."
   ]
  },
  {
   "cell_type": "code",
   "execution_count": 127,
   "metadata": {},
   "outputs": [
    {
     "name": "stdout",
     "output_type": "stream",
     "text": [
      "In 2012, in New York, 4255249 units of PepsiCo products were sold on deal.\n"
     ]
    }
   ],
   "source": [
    "# Filter the dataset to get the number of PepsiCo product units that were sold on deal in 2012 in New York.\n",
    "units_sold_on_deal_2012 = sellout_concat_trimmed_df.filter((year(sellout_concat_trimmed_df[\"Calendar week starting on\"]) == 2012) & (col(\"Market_Name\").like(\"NEW YORK\")) & (col(\"PR\") > 0.1) &\n",
    "    (col(\"VEND\").isin(pepsico_vend_codes))).agg(sum(\"Units\").alias(\"Units Sold on Deal\")).collect()[0][\"Units Sold on Deal\"]\n",
    "\n",
    "# Show the number of PepsiCo product units that were sold on deal in 2012 in New York.\n",
    "print(\"In 2012, in New York, {} units of PepsiCo products were sold on deal.\".format(units_sold_on_deal_2012))"
   ]
  },
  {
   "cell_type": "code",
   "execution_count": 128,
   "metadata": {},
   "outputs": [
    {
     "name": "stdout",
     "output_type": "stream",
     "text": [
      "In 2012, in New York, 7527159 units of PepsiCo products were sold.\n"
     ]
    }
   ],
   "source": [
    "# Filter the dataset to get the total number of PepsiCo product units sold in New York in 2012.\n",
    "total_units_sold_2012 = sellout_concat_trimmed_df.filter((year(sellout_concat_trimmed_df[\"Calendar week starting on\"]) == 2012) & (col(\"Market_Name\").like(\"NEW YORK\")) &\n",
    "    (col(\"VEND\").isin(pepsico_vend_codes))).agg(sum(\"Units\").alias(\"Total Units Sold\")).collect()[0][\"Total Units Sold\"]\n",
    "\n",
    "# Show the total number of PepsiCo product units sold in New York.\n",
    "print(\"In 2012, in New York, {} units of PepsiCo products were sold.\".format(total_units_sold_2012))"
   ]
  },
  {
   "cell_type": "code",
   "execution_count": 129,
   "metadata": {},
   "outputs": [
    {
     "name": "stdout",
     "output_type": "stream",
     "text": [
      "Volume Sold on Deal (VSoD) for PepsiCo products in 2012 in New York: 56.53%\n"
     ]
    }
   ],
   "source": [
    "# Calculate the Volume Sold on Deal (VSoD) for PepsiCo products in 2012 in New York.\n",
    "vsod_2012 = (units_sold_on_deal_2012 / total_units_sold_2012) * 100\n",
    "\n",
    "# Print the Volume Sold on Deal (VSoD) for PepsiCo products in 2012 in New York.\n",
    "print(\"Volume Sold on Deal (VSoD) for PepsiCo products in 2012 in New York: {:.2f}%\".format(vsod_2012))"
   ]
  },
  {
   "attachments": {},
   "cell_type": "markdown",
   "metadata": {},
   "source": [
    "--------------------------------------------------------------------------------------------------------------------------------------------------------------------------"
   ]
  },
  {
   "attachments": {},
   "cell_type": "markdown",
   "metadata": {},
   "source": [
    "## **TASK 6: Time Series Chart**"
   ]
  },
  {
   "attachments": {},
   "cell_type": "markdown",
   "metadata": {},
   "source": [
    "### **• Data for Building the Chart**\n",
    "\n",
    "The necessary columns were retrieved in order to satisfy the folowing chart criteria:\n",
    "\n",
    "1. Configurable for a particular item;\n",
    "\n",
    "2. For the total New York area;\n",
    "\n",
    "3. At weekly level;\n",
    "\n",
    "4. Show revenue, units sold, average price, average time with price reduction (PR), average marketing support (D)."
   ]
  },
  {
   "cell_type": "code",
   "execution_count": 130,
   "metadata": {},
   "outputs": [],
   "source": [
    "# Filtering the sellout dataset for all the transactions in New York, from PepsiCo.\n",
    "chart_filtered_data_df = sellout_concat_trimmed_df.filter((col(\"Market_Name\").like(\"NEW YORK\")) & (col(\"VEND\").isin(pepsico_vend_codes)) & ((year(col(\"Calendar week starting on\")) == 2011) | (year(col(\"Calendar week starting on\")) == 2012))).select(*sellout_concat_trimmed_df.columns)"
   ]
  },
  {
   "cell_type": "code",
   "execution_count": 131,
   "metadata": {},
   "outputs": [],
   "source": [
    "# Calculating the sum of dollars and units and the average Marketing for each combination of UPC, WEEK, and Mskd_Name.\n",
    "grouped_df = chart_filtered_data_df.groupBy(\"UPC\",\"Calendar week starting on\", \"MskdName\").agg(\n",
    "    F.sum(\"DOLLARS\").alias(\"Sum_Dollars\"),\n",
    "    F.sum(\"UNITS\").alias(\"Sum_Units\"),\n",
    "    F.avg(\"D\").alias(\"Average_D\"),\n",
    "    F.avg(\"PR\").alias(\"Average_PR\")\n",
    ")\n",
    "\n",
    "# Calculating the average price (AVG_Price) column.\n",
    "grouped_df = grouped_df.withColumn(\"AVG_Price\", F.col(\"Sum_Dollars\") / F.col(\"Sum_Units\"))\n",
    "\n",
    "# Adding a Year column.\n",
    "grouped_df = grouped_df.withColumn('Year', year(col('Calendar week starting on')))"
   ]
  },
  {
   "cell_type": "code",
   "execution_count": 132,
   "metadata": {},
   "outputs": [],
   "source": [
    "# Defining the desired column order.\n",
    "column_order = ['UPC', 'Calendar week starting on', 'Year', 'MskdName', 'Sum_Dollars', 'Sum_Units', 'Average_D', 'Average_PR', 'AVG_Price']\n",
    "\n",
    "# Reorganizing the order of columns\n",
    "grouped_df = grouped_df.select(column_order)"
   ]
  },
  {
   "cell_type": "code",
   "execution_count": 133,
   "metadata": {},
   "outputs": [
    {
     "name": "stdout",
     "output_type": "stream",
     "text": [
      "+-----------------+-------------------------+----+--------+------------------+---------+------------------+-------------------+------------------+\n",
      "|              UPC|Calendar week starting on|Year|MskdName|       Sum_Dollars|Sum_Units|         Average_D|         Average_PR|         AVG_Price|\n",
      "+-----------------+-------------------------+----+--------+------------------+---------+------------------+-------------------+------------------+\n",
      "|00-01-28400-08391|               2011-01-10|2011|  Chain4|            457.15|       65|               1.2|                0.6| 7.033076923076923|\n",
      "|00-03-28400-01234|               2011-02-07|2011|  Chain4|             39.26|       15|               0.0|                0.8|2.6173333333333333|\n",
      "|00-03-28400-01371|               2011-02-21|2011|  Chain4|              40.0|       20|               0.2|                0.0|               2.0|\n",
      "|00-01-28400-04768|               2011-03-07|2011|  Chain4|            121.59|       41|               0.4|                0.0| 2.965609756097561|\n",
      "|00-05-28400-01307|               2011-04-04|2011|  Chain4|              25.4|       10|               0.0| 0.3333333333333333|              2.54|\n",
      "|00-04-28400-01234|               2011-04-11|2011|  Chain4|              29.9|       10|               0.0|                0.0|2.9899999999999998|\n",
      "|00-01-30000-15027|               2011-01-24|2011|  Chain4|              7.96|        4|               0.0|                0.0|              1.99|\n",
      "|00-03-28400-00835|               2011-01-31|2011|  Chain4|33.900000000000006|       10|0.6666666666666666| 0.3333333333333333|3.3900000000000006|\n",
      "|00-01-28400-06764|               2011-02-07|2011|  Chain4| 64.74000000000001|       26|               0.5|                0.0|              2.49|\n",
      "|00-01-28400-03219|               2011-02-14|2011|  Chain4|             15.96|        4|               0.0|                0.0|              3.99|\n",
      "|00-02-28400-08447|               2011-03-07|2011|  Chain4|             27.21|        9|0.6666666666666666| 0.3333333333333333|3.0233333333333334|\n",
      "|00-01-28400-08392|               2011-03-07|2011|  Chain4|            225.08|       32|              0.25|                1.0|           7.03375|\n",
      "|00-01-28400-03399|               2011-03-28|2011|  Chain4|              49.9|       10|               0.0|                0.0|              4.99|\n",
      "|00-01-28400-07905|               2011-01-31|2011|  Chain4|              6.93|        7|               1.0|                0.0|              0.99|\n",
      "|00-04-28400-02203|               2011-01-10|2011| Chain98|            610.47|      153|               1.2|0.13333333333333333|              3.99|\n",
      "|00-02-28400-05660|               2011-01-31|2011| Chain98|            184.26|       74|               0.0|                0.0|2.4899999999999998|\n",
      "|00-01-28400-03285|               2011-03-21|2011| Chain98|            286.35|      115|               0.0|                0.0|              2.49|\n",
      "|00-01-28400-08411|               2011-03-28|2011| Chain98| 702.6500000000001|      235|               0.0|                0.0|              2.99|\n",
      "|00-01-28400-08447|               2011-04-11|2011| Chain98|231.23000000000002|       77|0.9230769230769231|0.07692307692307693|3.0029870129870133|\n",
      "|00-01-28400-08359|               2011-04-11|2011| Chain98|            849.87|      213|               0.2|                0.0|              3.99|\n",
      "+-----------------+-------------------------+----+--------+------------------+---------+------------------+-------------------+------------------+\n",
      "only showing top 20 rows\n",
      "\n"
     ]
    }
   ],
   "source": [
    "# Show the grouped chart dataframe.\n",
    "grouped_df.show()"
   ]
  }
 ],
 "metadata": {
  "kernelspec": {
   "display_name": "Python 3",
   "language": "python",
   "name": "python3"
  },
  "language_info": {
   "codemirror_mode": {
    "name": "ipython",
    "version": 3
   },
   "file_extension": ".py",
   "mimetype": "text/x-python",
   "name": "python",
   "nbconvert_exporter": "python",
   "pygments_lexer": "ipython3",
   "version": "3.11.2"
  },
  "orig_nbformat": 4
 },
 "nbformat": 4,
 "nbformat_minor": 2
}
